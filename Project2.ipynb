{
  "nbformat": 4,
  "nbformat_minor": 0,
  "metadata": {
    "colab": {
      "provenance": []
    },
    "kernelspec": {
      "name": "python3",
      "display_name": "Python 3"
    },
    "language_info": {
      "name": "python"
    }
  },
  "cells": [
    {
      "cell_type": "markdown",
      "source": [
        "The Medical Insurance Dataset provides data on the different attributes of patients and how much money the costs their insurance companies incurred. You task is to predict insurance charges ('charges'). Each of the text comments that some of the sub tasks require should not be more than 150 words.\n",
        "\n",
        "Your project's grade breakdown is the following:\n",
        "\n",
        "1. Build OLS regression and get at least 70% of adjusted R squared. (15%)\n",
        "2. Explain OLS regression output -  R-squared and adjusted R squared and their differences. (10%)\n",
        "3. Explain OLS regression output - beta coefficients. Also write the OLS function formula.  Do all of your beta coefficients seem logical? Comment on the beta coefficients you recieved. (20%)\n",
        "4. Explain OLS regression output - p-values. Indicate which of your p-values are above the threshold (choose 0.05). Why might it be this way? (10%)\n",
        "5. Write the OLS function formula - confidence intervals. Comment on the confidence intervals you recieved. (5%)\n",
        "6. Calculate SST, SSR and SSE. What do these metrics mean? Comment on your SST, SSR and SSE.(5%)\n",
        "7. Calculate MAE, MSE, RMSE. Your MAE should be about 3500-4500. Which ones are the best metric in your case? Comment on your MAE, MSE, RMSE. (20%)\n",
        "8. Build residual plot and comment it. (5%)\n",
        "9. Build actual vs predicted charges plot and comment it. (5%)\n",
        "10. Briefly explain what are degrees of freedom and dummy variables trap (5%)\n",
        "\n"
      ],
      "metadata": {
        "id": "4LXBYalxYpj5"
      }
    },
    {
      "cell_type": "code",
      "execution_count": 1,
      "metadata": {
        "id": "ZMS7KB6rX9y_"
      },
      "outputs": [],
      "source": [
        "import numpy as np\n",
        "import pandas as pd\n",
        "import os\n",
        "import warnings\n",
        "warnings.filterwarnings(\"ignore\")\n",
        "import sys, os\n",
        "import matplotlib.pyplot as plt\n",
        "import seaborn as sns\n",
        "from matplotlib import rcParams\n",
        "import statsmodels.api as sm\n",
        "from sklearn.model_selection import train_test_split\n",
        "from sklearn.metrics import mean_squared_error, r2_score, mean_absolute_error\n",
        "from sklearn.metrics import mean_squared_log_error"
      ]
    },
    {
      "cell_type": "code",
      "source": [
        "#read file\n",
        "df = pd.read_csv('insurance.csv')"
      ],
      "metadata": {
        "id": "Cp8poWxHYOrY"
      },
      "execution_count": 3,
      "outputs": []
    },
    {
      "cell_type": "code",
      "source": [
        "df.info()"
      ],
      "metadata": {
        "colab": {
          "base_uri": "https://localhost:8080/"
        },
        "id": "aLaYxsJEZS8G",
        "outputId": "188cce29-ac7c-4877-9601-aece1abcd079"
      },
      "execution_count": 4,
      "outputs": [
        {
          "output_type": "stream",
          "name": "stdout",
          "text": [
            "<class 'pandas.core.frame.DataFrame'>\n",
            "RangeIndex: 1338 entries, 0 to 1337\n",
            "Data columns (total 7 columns):\n",
            " #   Column    Non-Null Count  Dtype  \n",
            "---  ------    --------------  -----  \n",
            " 0   age       1338 non-null   int64  \n",
            " 1   sex       1338 non-null   object \n",
            " 2   bmi       1338 non-null   float64\n",
            " 3   children  1338 non-null   int64  \n",
            " 4   smoker    1338 non-null   object \n",
            " 5   region    1338 non-null   object \n",
            " 6   charges   1338 non-null   float64\n",
            "dtypes: float64(2), int64(2), object(3)\n",
            "memory usage: 73.3+ KB\n"
          ]
        }
      ]
    },
    {
      "cell_type": "markdown",
      "source": [
        "# Task1"
      ],
      "metadata": {
        "id": "zBCFH3iXccrb"
      }
    },
    {
      "cell_type": "code",
      "source": [
        "# Encode categorical variables\n",
        "df_encoded = pd.get_dummies(df, columns=[\"sex\", \"smoker\", \"region\"], drop_first=True)"
      ],
      "metadata": {
        "id": "BqodMjjuauGL"
      },
      "execution_count": 10,
      "outputs": []
    },
    {
      "cell_type": "code",
      "source": [
        "# Prepare data for model\n",
        "\n",
        "X = df_encoded.drop(\"charges\", axis=1)\n",
        "y = df_encoded[\"charges\"]"
      ],
      "metadata": {
        "id": "tbZ_8qzra03e"
      },
      "execution_count": 9,
      "outputs": []
    },
    {
      "cell_type": "code",
      "source": [
        "X = sm.add_constant(X)"
      ],
      "metadata": {
        "id": "9B-bJhKFa4ue"
      },
      "execution_count": 7,
      "outputs": []
    },
    {
      "cell_type": "code",
      "source": [
        "model = sm.OLS(y, X).fit()\n",
        "print(model.summary())"
      ],
      "metadata": {
        "colab": {
          "base_uri": "https://localhost:8080/"
        },
        "id": "_zdeViDha7Aj",
        "outputId": "6ecba1f8-eba7-47af-958b-0d21782ea96f"
      },
      "execution_count": 13,
      "outputs": [
        {
          "output_type": "stream",
          "name": "stdout",
          "text": [
            "                                 OLS Regression Results                                \n",
            "=======================================================================================\n",
            "Dep. Variable:                charges   R-squared (uncentered):                   0.874\n",
            "Model:                            OLS   Adj. R-squared (uncentered):              0.874\n",
            "Method:                 Least Squares   F-statistic:                              1158.\n",
            "Date:                Sun, 27 Aug 2023   Prob (F-statistic):                        0.00\n",
            "Time:                        19:55:05   Log-Likelihood:                         -13618.\n",
            "No. Observations:                1338   AIC:                                  2.725e+04\n",
            "Df Residuals:                    1330   BIC:                                  2.729e+04\n",
            "Df Model:                           8                                                  \n",
            "Covariance Type:            nonrobust                                                  \n",
            "====================================================================================\n",
            "                       coef    std err          t      P>|t|      [0.025      0.975]\n",
            "------------------------------------------------------------------------------------\n",
            "age                203.0019     11.619     17.471      0.000     180.208     225.796\n",
            "bmi                 69.2858     18.815      3.683      0.000      32.376     106.196\n",
            "children           289.0531    144.213      2.004      0.045       6.144     571.962\n",
            "sex_male          -665.6124    347.528     -1.915      0.056   -1347.376      16.151\n",
            "smoker_yes        2.337e+04    433.137     53.966      0.000    2.25e+04    2.42e+04\n",
            "region_northwest -1736.0707    486.883     -3.566      0.000   -2691.213    -780.928\n",
            "region_southeast -1281.8646    503.664     -2.545      0.011   -2269.926    -293.803\n",
            "region_southwest -1950.0825    495.875     -3.933      0.000   -2922.864    -977.301\n",
            "==============================================================================\n",
            "Omnibus:                      275.143   Durbin-Watson:                   2.062\n",
            "Prob(Omnibus):                  0.000   Jarque-Bera (JB):              642.991\n",
            "Skew:                           1.123   Prob(JB):                    2.38e-140\n",
            "Kurtosis:                       5.548   Cond. No.                         206.\n",
            "==============================================================================\n",
            "\n",
            "Notes:\n",
            "[1] R² is computed without centering (uncentered) since the model does not contain a constant.\n",
            "[2] Standard Errors assume that the covariance matrix of the errors is correctly specified.\n"
          ]
        }
      ]
    },
    {
      "cell_type": "markdown",
      "source": [
        "# Task2"
      ],
      "metadata": {
        "id": "IEm4WSShchg2"
      }
    },
    {
      "cell_type": "markdown",
      "source": [
        "The **R-squared** value measures the proportion of the variance in the dependent variable that is explained by the independent variables in the model. Here, R-squared is 0.751, which means that approximately 75.1% of the variance in charges is explained by the independent variables in the model.\n",
        "\n",
        "The **adjusted R-squared** value adjusts the R-squared value based on the number of predictors and observations. It takes into account the potential for overfitting due to including too many predictors. Here, the adjusted R-squared is 0.749, which is slightly lower than the R-squared. This suggests that the inclusion of the predictors in the model contributes to explaining the variance, but not all of them contribute significantly.\n",
        "\n",
        "The difference between R-squared and adjusted R-squared lies in how they account for model complexity. R-squared can increase by simply adding more predictors, which can lead to overfitting. Adjusted R-squared penalizes models with more predictors that do not significantly improve the fit, making it a more reliable measure of model fit."
      ],
      "metadata": {
        "id": "msH5-McIcpox"
      }
    },
    {
      "cell_type": "markdown",
      "source": [],
      "metadata": {
        "id": "4y4d5UMxcuLC"
      }
    },
    {
      "cell_type": "markdown",
      "source": [
        "# Task3"
      ],
      "metadata": {
        "id": "LEMV45Dkdfa_"
      }
    },
    {
      "cell_type": "markdown",
      "source": [
        "**coef**: These are the estimated coefficients (beta coefficients) for each predictor variable, indicating the change in the dependent variable for a one-unit change in the predictor variable, holding other variables constant.\n",
        "\n",
        "**std err**: Standard errors associated with the estimated coefficients. These give an idea of the uncertainty in the estimated coefficients.\n",
        "\n",
        "**t**: The t-statistic measures the number of standard deviations a coefficient is away from zero. It's used to test whether the coefficient is statistically significant.\n",
        "\n",
        "**P>|t|**: This is the p-value associated with the t-statistic. It indicates the probability of observing a t-statistic as extreme as the one calculated, assuming the null hypothesis that the coefficient is zero.\n",
        "\n",
        "**[0.025, 0.975]**: These are the lower and upper bounds of the 95% confidence interval for the estimated coefficient. They provide a range within which the true coefficient value is likely to fall.\n",
        "\n",
        "The OLS regression function formula is:\n",
        "Y = α + β1X1 + β2X2 + β3X3 Y = α"
      ],
      "metadata": {
        "id": "cnXyKGVjeIvm"
      }
    },
    {
      "cell_type": "markdown",
      "source": [
        "# Task4"
      ],
      "metadata": {
        "id": "zoKYAklGfL9G"
      }
    },
    {
      "cell_type": "markdown",
      "source": [
        "P>|t| (P-value): This column shows the p-value associated with the t-statistic for each coefficient. A p-value indicates the probability of observing a t-statistic as extreme as the one calculated, assuming the null hypothesis that the coefficient is zero.\n",
        "\n",
        "The p-value for region_northwest and sex_male are above the threshold. This suggests that that these coefficients aren't statistically significant. This suggests that being male or female might not be a significant predictor of the charges in this model, and also there isn't enough evidence to conclude that being in the \"northwest\" region significantly affects the charges"
      ],
      "metadata": {
        "id": "4ZmUIdHFfP6s"
      }
    },
    {
      "cell_type": "markdown",
      "source": [
        "# Task5"
      ],
      "metadata": {
        "id": "OHmT6ZX0hUKl"
      }
    },
    {
      "cell_type": "markdown",
      "source": [
        "Dependent Variable=β\n",
        "0\n",
        "​\n",
        " +β\n",
        "1\n",
        "​\n",
        " ×Predictor\n",
        "1\n",
        "​\n",
        " +β\n",
        "2\n",
        "​\n",
        " ×Predictor\n",
        "2\n",
        "​\n",
        " +…+β\n",
        "k\n",
        "​\n",
        " ×Predictor\n",
        "k\n",
        "​\n",
        " +ϵ\n",
        "\n",
        "**Comments on the Confidence Intervals:**\n",
        "\n",
        "The confidence intervals provide insight into the precision of the coefficient estimates. Wider intervals indicate less precise estimates, while narrower intervals indicate more precise estimates.\n",
        "\n",
        "For the coefficient estimates of \"const,\" \"age,\" \"bmi,\" and \"children,\" the confidence intervals are relatively narrow. This suggests that these coefficients are estimated with relatively high precision.\n",
        "\n",
        "The \"const\" coefficient represents the intercept. Its confidence interval suggests that the true population intercept lies between approximately -13900 and -10000.\n",
        "\n",
        "For the \"age,\" \"bmi,\" and \"children\" coefficients, the lower and upper bounds of the confidence intervals do not include zero. This indicates that these predictor variables are likely to have a statistically significant effect on the dependent variable (charges), as they are not crossing the zero effect mark."
      ],
      "metadata": {
        "id": "CYNP6tvJi9qh"
      }
    }
  ]
}