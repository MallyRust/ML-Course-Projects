{
  "cells": [
    {
      "cell_type": "markdown",
      "metadata": {
        "id": "view-in-github",
        "colab_type": "text"
      },
      "source": [
        "<a href=\"https://colab.research.google.com/github/MallyRust/ML-Projects/blob/project3/Project_3_due.ipynb\" target=\"_parent\"><img src=\"https://colab.research.google.com/assets/colab-badge.svg\" alt=\"Open In Colab\"/></a>"
      ]
    },
    {
      "cell_type": "markdown",
      "id": "b09f4062",
      "metadata": {
        "id": "b09f4062"
      },
      "source": [
        "### Tasks\n",
        "\n",
        "The Titanic dataset describes passengers of the most famous and ill fortuned ship \"Titanic\". You task is to predict whether a particular passenger would survive. The dependent variable \"Survived\" is binary. Each of the text comments that some of the sub tasks require should not be more than 150 words.\n",
        "\n",
        "Your project's grade breakdown is the following:\n",
        "\n",
        "- Build a correlation matrix and comment it. What is a correlation? How can you describe the relationships you see? (10%)\n",
        "- Use IV for feature selection. What is IV? Can we use IV for regression tasks? Can we use IV for feature selection when the dependent variable has more than 2 classes? (20%)\n",
        "- Calculate WoE bins for each feature. What is WoE? Comment on the bins produced by your code? In what cases would you manually calculate and adjust WoE bins? (20%)\n",
        "- Why missing values hinder building logistic regression? Deal with the missing values and explain your choice of tackling the problem. (5%)\n",
        "- What is logit? What is log odds? (5%)\n",
        "- Build a logistic regression and calculate ROC_AUC. Draw a ROC_AUC plot. What is ROC AUC?  (10%)\n",
        "- Use the following thresholds [0.01, 0.1,  0.2, 0.3, 0.4, 0.5] that differ from each other significantly and build a confusion matrix and calculate precession, recall, accuracy and F1 score for each threshold. Why does the confusion matrix change according to the threshold? Compare the metrics with each other and explain why we need also to look at these metrics not only at ROC_AUC (30%)"
      ]
    },
    {
      "cell_type": "code",
      "execution_count": 58,
      "id": "02a772e7",
      "metadata": {
        "id": "02a772e7"
      },
      "outputs": [],
      "source": [
        "import numpy as np\n",
        "import pandas as pd\n",
        "import matplotlib.pyplot as plt\n",
        "import seaborn as sns\n",
        "%matplotlib inline\n",
        "import warnings\n",
        "warnings.filterwarnings('ignore')\n",
        "\n",
        "from sklearn.model_selection import train_test_split\n",
        "from sklearn.linear_model import LogisticRegression\n",
        "from sklearn.metrics import roc_auc_score, roc_curve, auc\n",
        "from sklearn.metrics import confusion_matrix, precision_score, recall_score, accuracy_score, f1_score\n",
        "\n"
      ]
    },
    {
      "cell_type": "code",
      "execution_count": 20,
      "id": "e8585074",
      "metadata": {
        "colab": {
          "base_uri": "https://localhost:8080/",
          "height": 241
        },
        "id": "e8585074",
        "outputId": "309c1ee5-bc01-44c6-8057-fc9b397cf90f"
      },
      "outputs": [
        {
          "output_type": "execute_result",
          "data": {
            "text/plain": [
              "   PassengerId  Survived  Pclass  \\\n",
              "0            1         0       3   \n",
              "1            2         1       1   \n",
              "2            3         1       3   \n",
              "3            4         1       1   \n",
              "4            5         0       3   \n",
              "\n",
              "                                                Name     Sex   Age  SibSp  \\\n",
              "0                            Braund, Mr. Owen Harris    male  22.0      1   \n",
              "1  Cumings, Mrs. John Bradley (Florence Briggs Th...  female  38.0      1   \n",
              "2                             Heikkinen, Miss. Laina  female  26.0      0   \n",
              "3       Futrelle, Mrs. Jacques Heath (Lily May Peel)  female  35.0      1   \n",
              "4                           Allen, Mr. William Henry    male  35.0      0   \n",
              "\n",
              "   Parch            Ticket     Fare Cabin Embarked  \n",
              "0      0         A/5 21171   7.2500   NaN        S  \n",
              "1      0          PC 17599  71.2833   C85        C  \n",
              "2      0  STON/O2. 3101282   7.9250   NaN        S  \n",
              "3      0            113803  53.1000  C123        S  \n",
              "4      0            373450   8.0500   NaN        S  "
            ],
            "text/html": [
              "\n",
              "  <div id=\"df-71c971c9-531f-4b6f-adc0-d57cc841fe61\" class=\"colab-df-container\">\n",
              "    <div>\n",
              "<style scoped>\n",
              "    .dataframe tbody tr th:only-of-type {\n",
              "        vertical-align: middle;\n",
              "    }\n",
              "\n",
              "    .dataframe tbody tr th {\n",
              "        vertical-align: top;\n",
              "    }\n",
              "\n",
              "    .dataframe thead th {\n",
              "        text-align: right;\n",
              "    }\n",
              "</style>\n",
              "<table border=\"1\" class=\"dataframe\">\n",
              "  <thead>\n",
              "    <tr style=\"text-align: right;\">\n",
              "      <th></th>\n",
              "      <th>PassengerId</th>\n",
              "      <th>Survived</th>\n",
              "      <th>Pclass</th>\n",
              "      <th>Name</th>\n",
              "      <th>Sex</th>\n",
              "      <th>Age</th>\n",
              "      <th>SibSp</th>\n",
              "      <th>Parch</th>\n",
              "      <th>Ticket</th>\n",
              "      <th>Fare</th>\n",
              "      <th>Cabin</th>\n",
              "      <th>Embarked</th>\n",
              "    </tr>\n",
              "  </thead>\n",
              "  <tbody>\n",
              "    <tr>\n",
              "      <th>0</th>\n",
              "      <td>1</td>\n",
              "      <td>0</td>\n",
              "      <td>3</td>\n",
              "      <td>Braund, Mr. Owen Harris</td>\n",
              "      <td>male</td>\n",
              "      <td>22.0</td>\n",
              "      <td>1</td>\n",
              "      <td>0</td>\n",
              "      <td>A/5 21171</td>\n",
              "      <td>7.2500</td>\n",
              "      <td>NaN</td>\n",
              "      <td>S</td>\n",
              "    </tr>\n",
              "    <tr>\n",
              "      <th>1</th>\n",
              "      <td>2</td>\n",
              "      <td>1</td>\n",
              "      <td>1</td>\n",
              "      <td>Cumings, Mrs. John Bradley (Florence Briggs Th...</td>\n",
              "      <td>female</td>\n",
              "      <td>38.0</td>\n",
              "      <td>1</td>\n",
              "      <td>0</td>\n",
              "      <td>PC 17599</td>\n",
              "      <td>71.2833</td>\n",
              "      <td>C85</td>\n",
              "      <td>C</td>\n",
              "    </tr>\n",
              "    <tr>\n",
              "      <th>2</th>\n",
              "      <td>3</td>\n",
              "      <td>1</td>\n",
              "      <td>3</td>\n",
              "      <td>Heikkinen, Miss. Laina</td>\n",
              "      <td>female</td>\n",
              "      <td>26.0</td>\n",
              "      <td>0</td>\n",
              "      <td>0</td>\n",
              "      <td>STON/O2. 3101282</td>\n",
              "      <td>7.9250</td>\n",
              "      <td>NaN</td>\n",
              "      <td>S</td>\n",
              "    </tr>\n",
              "    <tr>\n",
              "      <th>3</th>\n",
              "      <td>4</td>\n",
              "      <td>1</td>\n",
              "      <td>1</td>\n",
              "      <td>Futrelle, Mrs. Jacques Heath (Lily May Peel)</td>\n",
              "      <td>female</td>\n",
              "      <td>35.0</td>\n",
              "      <td>1</td>\n",
              "      <td>0</td>\n",
              "      <td>113803</td>\n",
              "      <td>53.1000</td>\n",
              "      <td>C123</td>\n",
              "      <td>S</td>\n",
              "    </tr>\n",
              "    <tr>\n",
              "      <th>4</th>\n",
              "      <td>5</td>\n",
              "      <td>0</td>\n",
              "      <td>3</td>\n",
              "      <td>Allen, Mr. William Henry</td>\n",
              "      <td>male</td>\n",
              "      <td>35.0</td>\n",
              "      <td>0</td>\n",
              "      <td>0</td>\n",
              "      <td>373450</td>\n",
              "      <td>8.0500</td>\n",
              "      <td>NaN</td>\n",
              "      <td>S</td>\n",
              "    </tr>\n",
              "  </tbody>\n",
              "</table>\n",
              "</div>\n",
              "    <div class=\"colab-df-buttons\">\n",
              "\n",
              "  <div class=\"colab-df-container\">\n",
              "    <button class=\"colab-df-convert\" onclick=\"convertToInteractive('df-71c971c9-531f-4b6f-adc0-d57cc841fe61')\"\n",
              "            title=\"Convert this dataframe to an interactive table.\"\n",
              "            style=\"display:none;\">\n",
              "\n",
              "  <svg xmlns=\"http://www.w3.org/2000/svg\" height=\"24px\" viewBox=\"0 -960 960 960\">\n",
              "    <path d=\"M120-120v-720h720v720H120Zm60-500h600v-160H180v160Zm220 220h160v-160H400v160Zm0 220h160v-160H400v160ZM180-400h160v-160H180v160Zm440 0h160v-160H620v160ZM180-180h160v-160H180v160Zm440 0h160v-160H620v160Z\"/>\n",
              "  </svg>\n",
              "    </button>\n",
              "\n",
              "  <style>\n",
              "    .colab-df-container {\n",
              "      display:flex;\n",
              "      gap: 12px;\n",
              "    }\n",
              "\n",
              "    .colab-df-convert {\n",
              "      background-color: #E8F0FE;\n",
              "      border: none;\n",
              "      border-radius: 50%;\n",
              "      cursor: pointer;\n",
              "      display: none;\n",
              "      fill: #1967D2;\n",
              "      height: 32px;\n",
              "      padding: 0 0 0 0;\n",
              "      width: 32px;\n",
              "    }\n",
              "\n",
              "    .colab-df-convert:hover {\n",
              "      background-color: #E2EBFA;\n",
              "      box-shadow: 0px 1px 2px rgba(60, 64, 67, 0.3), 0px 1px 3px 1px rgba(60, 64, 67, 0.15);\n",
              "      fill: #174EA6;\n",
              "    }\n",
              "\n",
              "    .colab-df-buttons div {\n",
              "      margin-bottom: 4px;\n",
              "    }\n",
              "\n",
              "    [theme=dark] .colab-df-convert {\n",
              "      background-color: #3B4455;\n",
              "      fill: #D2E3FC;\n",
              "    }\n",
              "\n",
              "    [theme=dark] .colab-df-convert:hover {\n",
              "      background-color: #434B5C;\n",
              "      box-shadow: 0px 1px 3px 1px rgba(0, 0, 0, 0.15);\n",
              "      filter: drop-shadow(0px 1px 2px rgba(0, 0, 0, 0.3));\n",
              "      fill: #FFFFFF;\n",
              "    }\n",
              "  </style>\n",
              "\n",
              "    <script>\n",
              "      const buttonEl =\n",
              "        document.querySelector('#df-71c971c9-531f-4b6f-adc0-d57cc841fe61 button.colab-df-convert');\n",
              "      buttonEl.style.display =\n",
              "        google.colab.kernel.accessAllowed ? 'block' : 'none';\n",
              "\n",
              "      async function convertToInteractive(key) {\n",
              "        const element = document.querySelector('#df-71c971c9-531f-4b6f-adc0-d57cc841fe61');\n",
              "        const dataTable =\n",
              "          await google.colab.kernel.invokeFunction('convertToInteractive',\n",
              "                                                    [key], {});\n",
              "        if (!dataTable) return;\n",
              "\n",
              "        const docLinkHtml = 'Like what you see? Visit the ' +\n",
              "          '<a target=\"_blank\" href=https://colab.research.google.com/notebooks/data_table.ipynb>data table notebook</a>'\n",
              "          + ' to learn more about interactive tables.';\n",
              "        element.innerHTML = '';\n",
              "        dataTable['output_type'] = 'display_data';\n",
              "        await google.colab.output.renderOutput(dataTable, element);\n",
              "        const docLink = document.createElement('div');\n",
              "        docLink.innerHTML = docLinkHtml;\n",
              "        element.appendChild(docLink);\n",
              "      }\n",
              "    </script>\n",
              "  </div>\n",
              "\n",
              "\n",
              "<div id=\"df-88bfa132-f5ca-49ab-b964-35f9780d9311\">\n",
              "  <button class=\"colab-df-quickchart\" onclick=\"quickchart('df-88bfa132-f5ca-49ab-b964-35f9780d9311')\"\n",
              "            title=\"Suggest charts.\"\n",
              "            style=\"display:none;\">\n",
              "\n",
              "<svg xmlns=\"http://www.w3.org/2000/svg\" height=\"24px\"viewBox=\"0 0 24 24\"\n",
              "     width=\"24px\">\n",
              "    <g>\n",
              "        <path d=\"M19 3H5c-1.1 0-2 .9-2 2v14c0 1.1.9 2 2 2h14c1.1 0 2-.9 2-2V5c0-1.1-.9-2-2-2zM9 17H7v-7h2v7zm4 0h-2V7h2v10zm4 0h-2v-4h2v4z\"/>\n",
              "    </g>\n",
              "</svg>\n",
              "  </button>\n",
              "\n",
              "<style>\n",
              "  .colab-df-quickchart {\n",
              "      --bg-color: #E8F0FE;\n",
              "      --fill-color: #1967D2;\n",
              "      --hover-bg-color: #E2EBFA;\n",
              "      --hover-fill-color: #174EA6;\n",
              "      --disabled-fill-color: #AAA;\n",
              "      --disabled-bg-color: #DDD;\n",
              "  }\n",
              "\n",
              "  [theme=dark] .colab-df-quickchart {\n",
              "      --bg-color: #3B4455;\n",
              "      --fill-color: #D2E3FC;\n",
              "      --hover-bg-color: #434B5C;\n",
              "      --hover-fill-color: #FFFFFF;\n",
              "      --disabled-bg-color: #3B4455;\n",
              "      --disabled-fill-color: #666;\n",
              "  }\n",
              "\n",
              "  .colab-df-quickchart {\n",
              "    background-color: var(--bg-color);\n",
              "    border: none;\n",
              "    border-radius: 50%;\n",
              "    cursor: pointer;\n",
              "    display: none;\n",
              "    fill: var(--fill-color);\n",
              "    height: 32px;\n",
              "    padding: 0;\n",
              "    width: 32px;\n",
              "  }\n",
              "\n",
              "  .colab-df-quickchart:hover {\n",
              "    background-color: var(--hover-bg-color);\n",
              "    box-shadow: 0 1px 2px rgba(60, 64, 67, 0.3), 0 1px 3px 1px rgba(60, 64, 67, 0.15);\n",
              "    fill: var(--button-hover-fill-color);\n",
              "  }\n",
              "\n",
              "  .colab-df-quickchart-complete:disabled,\n",
              "  .colab-df-quickchart-complete:disabled:hover {\n",
              "    background-color: var(--disabled-bg-color);\n",
              "    fill: var(--disabled-fill-color);\n",
              "    box-shadow: none;\n",
              "  }\n",
              "\n",
              "  .colab-df-spinner {\n",
              "    border: 2px solid var(--fill-color);\n",
              "    border-color: transparent;\n",
              "    border-bottom-color: var(--fill-color);\n",
              "    animation:\n",
              "      spin 1s steps(1) infinite;\n",
              "  }\n",
              "\n",
              "  @keyframes spin {\n",
              "    0% {\n",
              "      border-color: transparent;\n",
              "      border-bottom-color: var(--fill-color);\n",
              "      border-left-color: var(--fill-color);\n",
              "    }\n",
              "    20% {\n",
              "      border-color: transparent;\n",
              "      border-left-color: var(--fill-color);\n",
              "      border-top-color: var(--fill-color);\n",
              "    }\n",
              "    30% {\n",
              "      border-color: transparent;\n",
              "      border-left-color: var(--fill-color);\n",
              "      border-top-color: var(--fill-color);\n",
              "      border-right-color: var(--fill-color);\n",
              "    }\n",
              "    40% {\n",
              "      border-color: transparent;\n",
              "      border-right-color: var(--fill-color);\n",
              "      border-top-color: var(--fill-color);\n",
              "    }\n",
              "    60% {\n",
              "      border-color: transparent;\n",
              "      border-right-color: var(--fill-color);\n",
              "    }\n",
              "    80% {\n",
              "      border-color: transparent;\n",
              "      border-right-color: var(--fill-color);\n",
              "      border-bottom-color: var(--fill-color);\n",
              "    }\n",
              "    90% {\n",
              "      border-color: transparent;\n",
              "      border-bottom-color: var(--fill-color);\n",
              "    }\n",
              "  }\n",
              "</style>\n",
              "\n",
              "  <script>\n",
              "    async function quickchart(key) {\n",
              "      const quickchartButtonEl =\n",
              "        document.querySelector('#' + key + ' button');\n",
              "      quickchartButtonEl.disabled = true;  // To prevent multiple clicks.\n",
              "      quickchartButtonEl.classList.add('colab-df-spinner');\n",
              "      try {\n",
              "        const charts = await google.colab.kernel.invokeFunction(\n",
              "            'suggestCharts', [key], {});\n",
              "      } catch (error) {\n",
              "        console.error('Error during call to suggestCharts:', error);\n",
              "      }\n",
              "      quickchartButtonEl.classList.remove('colab-df-spinner');\n",
              "      quickchartButtonEl.classList.add('colab-df-quickchart-complete');\n",
              "    }\n",
              "    (() => {\n",
              "      let quickchartButtonEl =\n",
              "        document.querySelector('#df-88bfa132-f5ca-49ab-b964-35f9780d9311 button');\n",
              "      quickchartButtonEl.style.display =\n",
              "        google.colab.kernel.accessAllowed ? 'block' : 'none';\n",
              "    })();\n",
              "  </script>\n",
              "</div>\n",
              "    </div>\n",
              "  </div>\n"
            ]
          },
          "metadata": {},
          "execution_count": 20
        }
      ],
      "source": [
        "data = pd.read_csv(\"sample_data/titanic.csv\")\n",
        "\n",
        "data.head()"
      ]
    },
    {
      "cell_type": "code",
      "execution_count": 21,
      "id": "468a82b4",
      "metadata": {
        "colab": {
          "base_uri": "https://localhost:8080/",
          "height": 411
        },
        "id": "468a82b4",
        "outputId": "847191a8-3996-4967-b30a-a704a17124a5"
      },
      "outputs": [
        {
          "output_type": "execute_result",
          "data": {
            "text/plain": [
              "        PassengerId    Survived      Pclass                     Name   Sex  \\\n",
              "count    891.000000  891.000000  891.000000                      891   891   \n",
              "unique          NaN         NaN         NaN                      891     2   \n",
              "top             NaN         NaN         NaN  Braund, Mr. Owen Harris  male   \n",
              "freq            NaN         NaN         NaN                        1   577   \n",
              "mean     446.000000    0.383838    2.308642                      NaN   NaN   \n",
              "std      257.353842    0.486592    0.836071                      NaN   NaN   \n",
              "min        1.000000    0.000000    1.000000                      NaN   NaN   \n",
              "25%      223.500000    0.000000    2.000000                      NaN   NaN   \n",
              "50%      446.000000    0.000000    3.000000                      NaN   NaN   \n",
              "75%      668.500000    1.000000    3.000000                      NaN   NaN   \n",
              "max      891.000000    1.000000    3.000000                      NaN   NaN   \n",
              "\n",
              "               Age       SibSp       Parch  Ticket        Fare    Cabin  \\\n",
              "count   714.000000  891.000000  891.000000     891  891.000000      204   \n",
              "unique         NaN         NaN         NaN     681         NaN      147   \n",
              "top            NaN         NaN         NaN  347082         NaN  B96 B98   \n",
              "freq           NaN         NaN         NaN       7         NaN        4   \n",
              "mean     29.699118    0.523008    0.381594     NaN   32.204208      NaN   \n",
              "std      14.526497    1.102743    0.806057     NaN   49.693429      NaN   \n",
              "min       0.420000    0.000000    0.000000     NaN    0.000000      NaN   \n",
              "25%      20.125000    0.000000    0.000000     NaN    7.910400      NaN   \n",
              "50%      28.000000    0.000000    0.000000     NaN   14.454200      NaN   \n",
              "75%      38.000000    1.000000    0.000000     NaN   31.000000      NaN   \n",
              "max      80.000000    8.000000    6.000000     NaN  512.329200      NaN   \n",
              "\n",
              "       Embarked  \n",
              "count       889  \n",
              "unique        3  \n",
              "top           S  \n",
              "freq        644  \n",
              "mean        NaN  \n",
              "std         NaN  \n",
              "min         NaN  \n",
              "25%         NaN  \n",
              "50%         NaN  \n",
              "75%         NaN  \n",
              "max         NaN  "
            ],
            "text/html": [
              "\n",
              "  <div id=\"df-6592947f-d26e-4cbf-b2f3-f50c4f60c4b2\" class=\"colab-df-container\">\n",
              "    <div>\n",
              "<style scoped>\n",
              "    .dataframe tbody tr th:only-of-type {\n",
              "        vertical-align: middle;\n",
              "    }\n",
              "\n",
              "    .dataframe tbody tr th {\n",
              "        vertical-align: top;\n",
              "    }\n",
              "\n",
              "    .dataframe thead th {\n",
              "        text-align: right;\n",
              "    }\n",
              "</style>\n",
              "<table border=\"1\" class=\"dataframe\">\n",
              "  <thead>\n",
              "    <tr style=\"text-align: right;\">\n",
              "      <th></th>\n",
              "      <th>PassengerId</th>\n",
              "      <th>Survived</th>\n",
              "      <th>Pclass</th>\n",
              "      <th>Name</th>\n",
              "      <th>Sex</th>\n",
              "      <th>Age</th>\n",
              "      <th>SibSp</th>\n",
              "      <th>Parch</th>\n",
              "      <th>Ticket</th>\n",
              "      <th>Fare</th>\n",
              "      <th>Cabin</th>\n",
              "      <th>Embarked</th>\n",
              "    </tr>\n",
              "  </thead>\n",
              "  <tbody>\n",
              "    <tr>\n",
              "      <th>count</th>\n",
              "      <td>891.000000</td>\n",
              "      <td>891.000000</td>\n",
              "      <td>891.000000</td>\n",
              "      <td>891</td>\n",
              "      <td>891</td>\n",
              "      <td>714.000000</td>\n",
              "      <td>891.000000</td>\n",
              "      <td>891.000000</td>\n",
              "      <td>891</td>\n",
              "      <td>891.000000</td>\n",
              "      <td>204</td>\n",
              "      <td>889</td>\n",
              "    </tr>\n",
              "    <tr>\n",
              "      <th>unique</th>\n",
              "      <td>NaN</td>\n",
              "      <td>NaN</td>\n",
              "      <td>NaN</td>\n",
              "      <td>891</td>\n",
              "      <td>2</td>\n",
              "      <td>NaN</td>\n",
              "      <td>NaN</td>\n",
              "      <td>NaN</td>\n",
              "      <td>681</td>\n",
              "      <td>NaN</td>\n",
              "      <td>147</td>\n",
              "      <td>3</td>\n",
              "    </tr>\n",
              "    <tr>\n",
              "      <th>top</th>\n",
              "      <td>NaN</td>\n",
              "      <td>NaN</td>\n",
              "      <td>NaN</td>\n",
              "      <td>Braund, Mr. Owen Harris</td>\n",
              "      <td>male</td>\n",
              "      <td>NaN</td>\n",
              "      <td>NaN</td>\n",
              "      <td>NaN</td>\n",
              "      <td>347082</td>\n",
              "      <td>NaN</td>\n",
              "      <td>B96 B98</td>\n",
              "      <td>S</td>\n",
              "    </tr>\n",
              "    <tr>\n",
              "      <th>freq</th>\n",
              "      <td>NaN</td>\n",
              "      <td>NaN</td>\n",
              "      <td>NaN</td>\n",
              "      <td>1</td>\n",
              "      <td>577</td>\n",
              "      <td>NaN</td>\n",
              "      <td>NaN</td>\n",
              "      <td>NaN</td>\n",
              "      <td>7</td>\n",
              "      <td>NaN</td>\n",
              "      <td>4</td>\n",
              "      <td>644</td>\n",
              "    </tr>\n",
              "    <tr>\n",
              "      <th>mean</th>\n",
              "      <td>446.000000</td>\n",
              "      <td>0.383838</td>\n",
              "      <td>2.308642</td>\n",
              "      <td>NaN</td>\n",
              "      <td>NaN</td>\n",
              "      <td>29.699118</td>\n",
              "      <td>0.523008</td>\n",
              "      <td>0.381594</td>\n",
              "      <td>NaN</td>\n",
              "      <td>32.204208</td>\n",
              "      <td>NaN</td>\n",
              "      <td>NaN</td>\n",
              "    </tr>\n",
              "    <tr>\n",
              "      <th>std</th>\n",
              "      <td>257.353842</td>\n",
              "      <td>0.486592</td>\n",
              "      <td>0.836071</td>\n",
              "      <td>NaN</td>\n",
              "      <td>NaN</td>\n",
              "      <td>14.526497</td>\n",
              "      <td>1.102743</td>\n",
              "      <td>0.806057</td>\n",
              "      <td>NaN</td>\n",
              "      <td>49.693429</td>\n",
              "      <td>NaN</td>\n",
              "      <td>NaN</td>\n",
              "    </tr>\n",
              "    <tr>\n",
              "      <th>min</th>\n",
              "      <td>1.000000</td>\n",
              "      <td>0.000000</td>\n",
              "      <td>1.000000</td>\n",
              "      <td>NaN</td>\n",
              "      <td>NaN</td>\n",
              "      <td>0.420000</td>\n",
              "      <td>0.000000</td>\n",
              "      <td>0.000000</td>\n",
              "      <td>NaN</td>\n",
              "      <td>0.000000</td>\n",
              "      <td>NaN</td>\n",
              "      <td>NaN</td>\n",
              "    </tr>\n",
              "    <tr>\n",
              "      <th>25%</th>\n",
              "      <td>223.500000</td>\n",
              "      <td>0.000000</td>\n",
              "      <td>2.000000</td>\n",
              "      <td>NaN</td>\n",
              "      <td>NaN</td>\n",
              "      <td>20.125000</td>\n",
              "      <td>0.000000</td>\n",
              "      <td>0.000000</td>\n",
              "      <td>NaN</td>\n",
              "      <td>7.910400</td>\n",
              "      <td>NaN</td>\n",
              "      <td>NaN</td>\n",
              "    </tr>\n",
              "    <tr>\n",
              "      <th>50%</th>\n",
              "      <td>446.000000</td>\n",
              "      <td>0.000000</td>\n",
              "      <td>3.000000</td>\n",
              "      <td>NaN</td>\n",
              "      <td>NaN</td>\n",
              "      <td>28.000000</td>\n",
              "      <td>0.000000</td>\n",
              "      <td>0.000000</td>\n",
              "      <td>NaN</td>\n",
              "      <td>14.454200</td>\n",
              "      <td>NaN</td>\n",
              "      <td>NaN</td>\n",
              "    </tr>\n",
              "    <tr>\n",
              "      <th>75%</th>\n",
              "      <td>668.500000</td>\n",
              "      <td>1.000000</td>\n",
              "      <td>3.000000</td>\n",
              "      <td>NaN</td>\n",
              "      <td>NaN</td>\n",
              "      <td>38.000000</td>\n",
              "      <td>1.000000</td>\n",
              "      <td>0.000000</td>\n",
              "      <td>NaN</td>\n",
              "      <td>31.000000</td>\n",
              "      <td>NaN</td>\n",
              "      <td>NaN</td>\n",
              "    </tr>\n",
              "    <tr>\n",
              "      <th>max</th>\n",
              "      <td>891.000000</td>\n",
              "      <td>1.000000</td>\n",
              "      <td>3.000000</td>\n",
              "      <td>NaN</td>\n",
              "      <td>NaN</td>\n",
              "      <td>80.000000</td>\n",
              "      <td>8.000000</td>\n",
              "      <td>6.000000</td>\n",
              "      <td>NaN</td>\n",
              "      <td>512.329200</td>\n",
              "      <td>NaN</td>\n",
              "      <td>NaN</td>\n",
              "    </tr>\n",
              "  </tbody>\n",
              "</table>\n",
              "</div>\n",
              "    <div class=\"colab-df-buttons\">\n",
              "\n",
              "  <div class=\"colab-df-container\">\n",
              "    <button class=\"colab-df-convert\" onclick=\"convertToInteractive('df-6592947f-d26e-4cbf-b2f3-f50c4f60c4b2')\"\n",
              "            title=\"Convert this dataframe to an interactive table.\"\n",
              "            style=\"display:none;\">\n",
              "\n",
              "  <svg xmlns=\"http://www.w3.org/2000/svg\" height=\"24px\" viewBox=\"0 -960 960 960\">\n",
              "    <path d=\"M120-120v-720h720v720H120Zm60-500h600v-160H180v160Zm220 220h160v-160H400v160Zm0 220h160v-160H400v160ZM180-400h160v-160H180v160Zm440 0h160v-160H620v160ZM180-180h160v-160H180v160Zm440 0h160v-160H620v160Z\"/>\n",
              "  </svg>\n",
              "    </button>\n",
              "\n",
              "  <style>\n",
              "    .colab-df-container {\n",
              "      display:flex;\n",
              "      gap: 12px;\n",
              "    }\n",
              "\n",
              "    .colab-df-convert {\n",
              "      background-color: #E8F0FE;\n",
              "      border: none;\n",
              "      border-radius: 50%;\n",
              "      cursor: pointer;\n",
              "      display: none;\n",
              "      fill: #1967D2;\n",
              "      height: 32px;\n",
              "      padding: 0 0 0 0;\n",
              "      width: 32px;\n",
              "    }\n",
              "\n",
              "    .colab-df-convert:hover {\n",
              "      background-color: #E2EBFA;\n",
              "      box-shadow: 0px 1px 2px rgba(60, 64, 67, 0.3), 0px 1px 3px 1px rgba(60, 64, 67, 0.15);\n",
              "      fill: #174EA6;\n",
              "    }\n",
              "\n",
              "    .colab-df-buttons div {\n",
              "      margin-bottom: 4px;\n",
              "    }\n",
              "\n",
              "    [theme=dark] .colab-df-convert {\n",
              "      background-color: #3B4455;\n",
              "      fill: #D2E3FC;\n",
              "    }\n",
              "\n",
              "    [theme=dark] .colab-df-convert:hover {\n",
              "      background-color: #434B5C;\n",
              "      box-shadow: 0px 1px 3px 1px rgba(0, 0, 0, 0.15);\n",
              "      filter: drop-shadow(0px 1px 2px rgba(0, 0, 0, 0.3));\n",
              "      fill: #FFFFFF;\n",
              "    }\n",
              "  </style>\n",
              "\n",
              "    <script>\n",
              "      const buttonEl =\n",
              "        document.querySelector('#df-6592947f-d26e-4cbf-b2f3-f50c4f60c4b2 button.colab-df-convert');\n",
              "      buttonEl.style.display =\n",
              "        google.colab.kernel.accessAllowed ? 'block' : 'none';\n",
              "\n",
              "      async function convertToInteractive(key) {\n",
              "        const element = document.querySelector('#df-6592947f-d26e-4cbf-b2f3-f50c4f60c4b2');\n",
              "        const dataTable =\n",
              "          await google.colab.kernel.invokeFunction('convertToInteractive',\n",
              "                                                    [key], {});\n",
              "        if (!dataTable) return;\n",
              "\n",
              "        const docLinkHtml = 'Like what you see? Visit the ' +\n",
              "          '<a target=\"_blank\" href=https://colab.research.google.com/notebooks/data_table.ipynb>data table notebook</a>'\n",
              "          + ' to learn more about interactive tables.';\n",
              "        element.innerHTML = '';\n",
              "        dataTable['output_type'] = 'display_data';\n",
              "        await google.colab.output.renderOutput(dataTable, element);\n",
              "        const docLink = document.createElement('div');\n",
              "        docLink.innerHTML = docLinkHtml;\n",
              "        element.appendChild(docLink);\n",
              "      }\n",
              "    </script>\n",
              "  </div>\n",
              "\n",
              "\n",
              "<div id=\"df-49d70d47-7987-493a-8ced-483790762ecc\">\n",
              "  <button class=\"colab-df-quickchart\" onclick=\"quickchart('df-49d70d47-7987-493a-8ced-483790762ecc')\"\n",
              "            title=\"Suggest charts.\"\n",
              "            style=\"display:none;\">\n",
              "\n",
              "<svg xmlns=\"http://www.w3.org/2000/svg\" height=\"24px\"viewBox=\"0 0 24 24\"\n",
              "     width=\"24px\">\n",
              "    <g>\n",
              "        <path d=\"M19 3H5c-1.1 0-2 .9-2 2v14c0 1.1.9 2 2 2h14c1.1 0 2-.9 2-2V5c0-1.1-.9-2-2-2zM9 17H7v-7h2v7zm4 0h-2V7h2v10zm4 0h-2v-4h2v4z\"/>\n",
              "    </g>\n",
              "</svg>\n",
              "  </button>\n",
              "\n",
              "<style>\n",
              "  .colab-df-quickchart {\n",
              "      --bg-color: #E8F0FE;\n",
              "      --fill-color: #1967D2;\n",
              "      --hover-bg-color: #E2EBFA;\n",
              "      --hover-fill-color: #174EA6;\n",
              "      --disabled-fill-color: #AAA;\n",
              "      --disabled-bg-color: #DDD;\n",
              "  }\n",
              "\n",
              "  [theme=dark] .colab-df-quickchart {\n",
              "      --bg-color: #3B4455;\n",
              "      --fill-color: #D2E3FC;\n",
              "      --hover-bg-color: #434B5C;\n",
              "      --hover-fill-color: #FFFFFF;\n",
              "      --disabled-bg-color: #3B4455;\n",
              "      --disabled-fill-color: #666;\n",
              "  }\n",
              "\n",
              "  .colab-df-quickchart {\n",
              "    background-color: var(--bg-color);\n",
              "    border: none;\n",
              "    border-radius: 50%;\n",
              "    cursor: pointer;\n",
              "    display: none;\n",
              "    fill: var(--fill-color);\n",
              "    height: 32px;\n",
              "    padding: 0;\n",
              "    width: 32px;\n",
              "  }\n",
              "\n",
              "  .colab-df-quickchart:hover {\n",
              "    background-color: var(--hover-bg-color);\n",
              "    box-shadow: 0 1px 2px rgba(60, 64, 67, 0.3), 0 1px 3px 1px rgba(60, 64, 67, 0.15);\n",
              "    fill: var(--button-hover-fill-color);\n",
              "  }\n",
              "\n",
              "  .colab-df-quickchart-complete:disabled,\n",
              "  .colab-df-quickchart-complete:disabled:hover {\n",
              "    background-color: var(--disabled-bg-color);\n",
              "    fill: var(--disabled-fill-color);\n",
              "    box-shadow: none;\n",
              "  }\n",
              "\n",
              "  .colab-df-spinner {\n",
              "    border: 2px solid var(--fill-color);\n",
              "    border-color: transparent;\n",
              "    border-bottom-color: var(--fill-color);\n",
              "    animation:\n",
              "      spin 1s steps(1) infinite;\n",
              "  }\n",
              "\n",
              "  @keyframes spin {\n",
              "    0% {\n",
              "      border-color: transparent;\n",
              "      border-bottom-color: var(--fill-color);\n",
              "      border-left-color: var(--fill-color);\n",
              "    }\n",
              "    20% {\n",
              "      border-color: transparent;\n",
              "      border-left-color: var(--fill-color);\n",
              "      border-top-color: var(--fill-color);\n",
              "    }\n",
              "    30% {\n",
              "      border-color: transparent;\n",
              "      border-left-color: var(--fill-color);\n",
              "      border-top-color: var(--fill-color);\n",
              "      border-right-color: var(--fill-color);\n",
              "    }\n",
              "    40% {\n",
              "      border-color: transparent;\n",
              "      border-right-color: var(--fill-color);\n",
              "      border-top-color: var(--fill-color);\n",
              "    }\n",
              "    60% {\n",
              "      border-color: transparent;\n",
              "      border-right-color: var(--fill-color);\n",
              "    }\n",
              "    80% {\n",
              "      border-color: transparent;\n",
              "      border-right-color: var(--fill-color);\n",
              "      border-bottom-color: var(--fill-color);\n",
              "    }\n",
              "    90% {\n",
              "      border-color: transparent;\n",
              "      border-bottom-color: var(--fill-color);\n",
              "    }\n",
              "  }\n",
              "</style>\n",
              "\n",
              "  <script>\n",
              "    async function quickchart(key) {\n",
              "      const quickchartButtonEl =\n",
              "        document.querySelector('#' + key + ' button');\n",
              "      quickchartButtonEl.disabled = true;  // To prevent multiple clicks.\n",
              "      quickchartButtonEl.classList.add('colab-df-spinner');\n",
              "      try {\n",
              "        const charts = await google.colab.kernel.invokeFunction(\n",
              "            'suggestCharts', [key], {});\n",
              "      } catch (error) {\n",
              "        console.error('Error during call to suggestCharts:', error);\n",
              "      }\n",
              "      quickchartButtonEl.classList.remove('colab-df-spinner');\n",
              "      quickchartButtonEl.classList.add('colab-df-quickchart-complete');\n",
              "    }\n",
              "    (() => {\n",
              "      let quickchartButtonEl =\n",
              "        document.querySelector('#df-49d70d47-7987-493a-8ced-483790762ecc button');\n",
              "      quickchartButtonEl.style.display =\n",
              "        google.colab.kernel.accessAllowed ? 'block' : 'none';\n",
              "    })();\n",
              "  </script>\n",
              "</div>\n",
              "    </div>\n",
              "  </div>\n"
            ]
          },
          "metadata": {},
          "execution_count": 21
        }
      ],
      "source": [
        "#summary of data\n",
        "\n",
        "data.describe(include=\"all\")"
      ]
    },
    {
      "cell_type": "markdown",
      "source": [
        "**Some Predictions**:\n",
        "\n",
        "* Sex: Females are more likely to survive.\n",
        "* SibSp/Parch: People traveling alone are more likely to survive.\n",
        "* Age: Young children are more likely to survive.\n",
        "* Pclass: People of higher socioeconomic class are more likely to survive."
      ],
      "metadata": {
        "id": "aXmcsWmpO0Ld"
      },
      "id": "aXmcsWmpO0Ld"
    },
    {
      "cell_type": "markdown",
      "source": [
        "\n",
        "Let's vizulize our data to check wheter predictions are correct or not"
      ],
      "metadata": {
        "id": "8JQRAf7MPGlc"
      },
      "id": "8JQRAf7MPGlc"
    },
    {
      "cell_type": "markdown",
      "source": [
        "# Task 1"
      ],
      "metadata": {
        "id": "0YJxnda-V1Wk"
      },
      "id": "0YJxnda-V1Wk"
    },
    {
      "cell_type": "markdown",
      "source": [
        "**Sex**:\n",
        "We can't directly compute a correlation because \"Sex\" is a categorical variable (containing \"male\" and \"female\") and \"Survived\" is a binary variable (0 or 1). So, to make the \"Sex\" variable binary instead of categorical, we can convert it into a numerical binary variable, typically using 0 and 1 to represent the two categories. Here  can map \"male\" to 0 and \"female\" to 1."
      ],
      "metadata": {
        "id": "tzCEyES2QzSV"
      },
      "id": "tzCEyES2QzSV"
    },
    {
      "cell_type": "code",
      "source": [
        "df = pd.DataFrame(data)\n",
        "df['Sex'] = df['Sex'].replace({'male': 0, 'female': 1})\n",
        "\n",
        "print(df)"
      ],
      "metadata": {
        "colab": {
          "base_uri": "https://localhost:8080/"
        },
        "id": "eZKHGCtqPW1q",
        "outputId": "373c42c7-9158-40e2-80ab-28935a5adfb2"
      },
      "id": "eZKHGCtqPW1q",
      "execution_count": 38,
      "outputs": [
        {
          "output_type": "stream",
          "name": "stdout",
          "text": [
            "     PassengerId  Survived  Pclass  \\\n",
            "0              1         0       3   \n",
            "1              2         1       1   \n",
            "2              3         1       3   \n",
            "3              4         1       1   \n",
            "4              5         0       3   \n",
            "..           ...       ...     ...   \n",
            "886          887         0       2   \n",
            "887          888         1       1   \n",
            "888          889         0       3   \n",
            "889          890         1       1   \n",
            "890          891         0       3   \n",
            "\n",
            "                                                  Name  Sex   Age  SibSp  \\\n",
            "0                              Braund, Mr. Owen Harris    0  22.0      1   \n",
            "1    Cumings, Mrs. John Bradley (Florence Briggs Th...    1  38.0      1   \n",
            "2                               Heikkinen, Miss. Laina    1  26.0      0   \n",
            "3         Futrelle, Mrs. Jacques Heath (Lily May Peel)    1  35.0      1   \n",
            "4                             Allen, Mr. William Henry    0  35.0      0   \n",
            "..                                                 ...  ...   ...    ...   \n",
            "886                              Montvila, Rev. Juozas    0  27.0      0   \n",
            "887                       Graham, Miss. Margaret Edith    1  19.0      0   \n",
            "888           Johnston, Miss. Catherine Helen \"Carrie\"    1   NaN      1   \n",
            "889                              Behr, Mr. Karl Howell    0  26.0      0   \n",
            "890                                Dooley, Mr. Patrick    0  32.0      0   \n",
            "\n",
            "     Parch            Ticket     Fare Cabin Embarked  \n",
            "0        0         A/5 21171   7.2500   NaN        S  \n",
            "1        0          PC 17599  71.2833   C85        C  \n",
            "2        0  STON/O2. 3101282   7.9250   NaN        S  \n",
            "3        0            113803  53.1000  C123        S  \n",
            "4        0            373450   8.0500   NaN        S  \n",
            "..     ...               ...      ...   ...      ...  \n",
            "886      0            211536  13.0000   NaN        S  \n",
            "887      0            112053  30.0000   B42        S  \n",
            "888      2        W./C. 6607  23.4500   NaN        S  \n",
            "889      0            111369  30.0000  C148        C  \n",
            "890      0            370376   7.7500   NaN        Q  \n",
            "\n",
            "[891 rows x 12 columns]\n"
          ]
        }
      ]
    },
    {
      "cell_type": "markdown",
      "source": [
        "**SibSp Feature**"
      ],
      "metadata": {
        "id": "ClTtpKaWXsGp"
      },
      "id": "ClTtpKaWXsGp"
    },
    {
      "cell_type": "code",
      "source": [
        "selected_columns = df[['Sex', 'Survived']]\n",
        "correlation_matrix = selected_columns.corr()\n",
        "\n",
        "print(correlation_matrix)"
      ],
      "metadata": {
        "colab": {
          "base_uri": "https://localhost:8080/"
        },
        "id": "FvYE6f-ATWOe",
        "outputId": "c26dc64e-bd26-4904-fae9-c807b7e84f86"
      },
      "id": "FvYE6f-ATWOe",
      "execution_count": 36,
      "outputs": [
        {
          "output_type": "stream",
          "name": "stdout",
          "text": [
            "               Sex  Survived\n",
            "Sex       1.000000  0.543351\n",
            "Survived  0.543351  1.000000\n"
          ]
        }
      ]
    },
    {
      "cell_type": "markdown",
      "source": [
        "There is a tendency for one gender (e.g., female) to have a higher likelihood of survival compared to the other gender (e.g., male), which is indicated by the positive correlation value."
      ],
      "metadata": {
        "id": "OUaTWIH4VwaG"
      },
      "id": "OUaTWIH4VwaG"
    },
    {
      "cell_type": "code",
      "source": [
        "selected_columns = df[['SibSp', 'Survived']]\n",
        "correlation_matrix = selected_columns.corr()\n",
        "\n",
        "print(correlation_matrix)"
      ],
      "metadata": {
        "colab": {
          "base_uri": "https://localhost:8080/"
        },
        "id": "o7ywCbvkXEu_",
        "outputId": "225b3abc-57c7-424c-ab81-e3ab8b230aa4"
      },
      "id": "o7ywCbvkXEu_",
      "execution_count": 41,
      "outputs": [
        {
          "output_type": "stream",
          "name": "stdout",
          "text": [
            "             SibSp  Survived\n",
            "SibSp     1.000000 -0.035322\n",
            "Survived -0.035322  1.000000\n"
          ]
        }
      ]
    },
    {
      "cell_type": "markdown",
      "source": [
        " As the number of siblings or spouses aboard increases, there is a slightly lower chance of survival."
      ],
      "metadata": {
        "id": "bRmHiiyOXl2I"
      },
      "id": "bRmHiiyOXl2I"
    },
    {
      "cell_type": "markdown",
      "source": [
        "**Age**"
      ],
      "metadata": {
        "id": "VSeI7W-kW6Vf"
      },
      "id": "VSeI7W-kW6Vf"
    },
    {
      "cell_type": "code",
      "source": [
        "selected_columns = df[['Age', 'Survived']]\n",
        "correlation_matrix = selected_columns.corr()\n",
        "\n",
        "print(correlation_matrix)"
      ],
      "metadata": {
        "colab": {
          "base_uri": "https://localhost:8080/"
        },
        "id": "2NgGfOyLWHdc",
        "outputId": "5e966d7d-a6b4-4ad9-c62b-bdc62790f9c7"
      },
      "id": "2NgGfOyLWHdc",
      "execution_count": 40,
      "outputs": [
        {
          "output_type": "stream",
          "name": "stdout",
          "text": [
            "               Age  Survived\n",
            "Age       1.000000 -0.077221\n",
            "Survived -0.077221  1.000000\n"
          ]
        }
      ]
    },
    {
      "cell_type": "markdown",
      "source": [
        " As age increases, there is a slight tendency for survival to decrease."
      ],
      "metadata": {
        "id": "tvbwYmhsW3uW"
      },
      "id": "tvbwYmhsW3uW"
    },
    {
      "cell_type": "markdown",
      "source": [
        "**PClass Feature**"
      ],
      "metadata": {
        "id": "-ZTJGSA5X1A6"
      },
      "id": "-ZTJGSA5X1A6"
    },
    {
      "cell_type": "code",
      "source": [
        "selected_columns = df[['Pclass', 'Survived']]\n",
        "correlation_matrix = selected_columns.corr()\n",
        "\n",
        "print(correlation_matrix)"
      ],
      "metadata": {
        "colab": {
          "base_uri": "https://localhost:8080/"
        },
        "id": "ypJD0McpX51i",
        "outputId": "7da52d2f-6b6c-4f07-cfbe-79768345448b"
      },
      "id": "ypJD0McpX51i",
      "execution_count": 43,
      "outputs": [
        {
          "output_type": "stream",
          "name": "stdout",
          "text": [
            "            Pclass  Survived\n",
            "Pclass    1.000000 -0.338481\n",
            "Survived -0.338481  1.000000\n"
          ]
        }
      ]
    },
    {
      "cell_type": "markdown",
      "source": [
        "There is a notable relationship between passenger class and survival: passengers in higher classes (lower Pclass values) were more likely to survive, while passengers in lower classes (higher Pclass values) were less likely to survive."
      ],
      "metadata": {
        "id": "3l7dtxutYSLn"
      },
      "id": "3l7dtxutYSLn"
    },
    {
      "cell_type": "markdown",
      "source": [
        "# Task 2"
      ],
      "metadata": {
        "id": "GdCzpYBwYkvx"
      },
      "id": "GdCzpYBwYkvx"
    },
    {
      "cell_type": "markdown",
      "source": [
        "IV, or Information Value, a numerical value that quantifies the predictive power of an independent continuous variable x in capturing the binary dependent variable y. IV is helpful for reducing the number of variables as an initial step in preparing for Logistic Regression, especially when there are a large amount of potential variables.\n",
        "\n",
        "Not Suitable for Regression: IV is not typically used for regression tasks. It is more appropriate for problems where the target variable is categorical or binary, and the goal is to classify observations into discrete classes.\n",
        "\n",
        "IV (Information Value) is typically not used for feature selection when the dependent variable has more than two classes. IV is specifically designed for binary classification problems, where the dependent variable has only two classes or outcomes, such as \"Yes\" or \"No\""
      ],
      "metadata": {
        "id": "5vWnoIXXYu5T"
      },
      "id": "5vWnoIXXYu5T"
    },
    {
      "cell_type": "code",
      "source": [
        "\n",
        "df = pd.DataFrame(data)\n",
        "grouped = df.groupby('Pclass')['Survived'].value_counts().unstack().fillna(0)\n",
        "\n",
        "# Calculate IV for 'Pclass'\n",
        "IV = 0\n",
        "for idx, row in grouped.iterrows():\n",
        "    pos = row[1]\n",
        "    neg = row[0]\n",
        "    pos_total = df['Survived'].sum()\n",
        "    neg_total = df['Survived'].count() - pos_total\n",
        "    woe = np.log((pos / pos_total) / (neg / neg_total))\n",
        "    iv = (pos / pos_total - neg / neg_total) * woe\n",
        "    IV += iv\n",
        "\n",
        "print(\"Information Value (IV) for 'Pclass':\", IV)\n"
      ],
      "metadata": {
        "colab": {
          "base_uri": "https://localhost:8080/"
        },
        "id": "NqDdX4rgadCL",
        "outputId": "5e6ba9b4-6bdd-4f75-f27a-4c1a1cb2816b"
      },
      "id": "NqDdX4rgadCL",
      "execution_count": 45,
      "outputs": [
        {
          "output_type": "stream",
          "name": "stdout",
          "text": [
            "Information Value (IV) for 'Pclass': 0.500949737583947\n"
          ]
        }
      ]
    },
    {
      "cell_type": "markdown",
      "source": [],
      "metadata": {
        "id": "3nD_CMvTVzML"
      },
      "id": "3nD_CMvTVzML"
    },
    {
      "cell_type": "code",
      "source": [
        "df = pd.DataFrame(data)\n",
        "grouped = df.groupby('Sex')['Survived'].value_counts().unstack().fillna(0)\n",
        "\n",
        "# Calculate IV for 'Pclass'\n",
        "IV = 0\n",
        "for idx, row in grouped.iterrows():\n",
        "    pos = row[1]\n",
        "    neg = row[0]\n",
        "    pos_total = df['Survived'].sum()\n",
        "    neg_total = df['Survived'].count() - pos_total\n",
        "    woe = np.log((pos / pos_total) / (neg / neg_total))\n",
        "    iv = (pos / pos_total - neg / neg_total) * woe\n",
        "    IV += iv\n",
        "\n",
        "print(\"Information Value (IV) for 'Sex':\", IV)"
      ],
      "metadata": {
        "colab": {
          "base_uri": "https://localhost:8080/"
        },
        "id": "uflHZZJkbtDb",
        "outputId": "a166e11e-80ce-410a-e5d7-5df8100d4e73"
      },
      "id": "uflHZZJkbtDb",
      "execution_count": 46,
      "outputs": [
        {
          "output_type": "stream",
          "name": "stdout",
          "text": [
            "Information Value (IV) for 'Sex': 1.3416814135556492\n"
          ]
        }
      ]
    },
    {
      "cell_type": "markdown",
      "source": [
        "* Pclass' feature indicates that this feature has strong predictive power when it comes to predicting the 'Survived' outcome\n",
        "* 'Sex' feature indicates that this feature has very strong predictive power"
      ],
      "metadata": {
        "id": "68ZzDmQZb54Y"
      },
      "id": "68ZzDmQZb54Y"
    },
    {
      "cell_type": "markdown",
      "source": [
        "# Task 3"
      ],
      "metadata": {
        "id": "FrjEvwnnccf5"
      },
      "id": "FrjEvwnnccf5"
    },
    {
      "cell_type": "markdown",
      "source": [
        "Weight of Evidence (WoE) is a statistical technique used in credit scoring and binary classification problems to transform categorical or continuous predictor variables into a meaningful and predictive form."
      ],
      "metadata": {
        "id": "K1qCpXYXch9T"
      },
      "id": "K1qCpXYXch9T"
    },
    {
      "cell_type": "code",
      "source": [
        "df = pd.DataFrame(data)\n",
        "\n",
        "# Define the number of bins\n",
        "num_bins = 5\n",
        "\n",
        "# Create bins for 'Age' using pandas cut function\n",
        "df['Age_Bins'] = pd.cut(df['Age'], bins=num_bins)\n",
        "\n",
        "# Calculate WoE for each bin\n",
        "woe_values = []\n",
        "for age_bin in df['Age_Bins'].unique():\n",
        "    subset = df[df['Age_Bins'] == age_bin]\n",
        "    event = subset['Survived'].sum()\n",
        "    non_event = len(subset) - event\n",
        "    total = len(subset)\n",
        "    event_rate = event / total\n",
        "    non_event_rate = non_event / total\n",
        "    woe = np.log(event_rate / non_event_rate)\n",
        "    woe_values.append((age_bin, woe))\n",
        "\n",
        "# Display the WoE values for each bin\n",
        "for bin, woe in woe_values:\n",
        "    print(f\"Bin: {bin}, WoE: {woe:.4f}\")\n"
      ],
      "metadata": {
        "colab": {
          "base_uri": "https://localhost:8080/"
        },
        "id": "LqU7pB5KchDu",
        "outputId": "324837b8-30d0-49d1-8dd8-03ed81ca70a0"
      },
      "id": "LqU7pB5KchDu",
      "execution_count": 47,
      "outputs": [
        {
          "output_type": "stream",
          "name": "stdout",
          "text": [
            "Bin: (16.336, 32.252], WoE: -0.5325\n",
            "Bin: (32.252, 48.168], WoE: -0.3878\n",
            "Bin: nan, WoE: nan\n",
            "Bin: (48.168, 64.084], WoE: -0.2624\n",
            "Bin: (0.34, 16.336], WoE: 0.2007\n",
            "Bin: (64.084, 80.0], WoE: -2.3026\n"
          ]
        }
      ]
    },
    {
      "cell_type": "markdown",
      "source": [
        "(16.336, 32.252], WoE: -0.5325: People aged 16 to 32 are less likely to experience the event (negative association).\n",
        "\n",
        "(32.252, 48.168], WoE: -0.3878: People aged 32 to 48 are also less likely to experience the event (negative association).\n",
        "nan, WoE: nan: Missing data.\n",
        "\n",
        "(48.168, 64.084], WoE: -0.2624: People aged 48 to 64 are less likely to experience the event (weaker negative association).\n",
        "\n",
        "(0.34, 16.336], WoE: 0.2007: People aged 0.34 to 16 are more likely to experience the event (positive association).\n",
        "\n",
        "(64.084, 80.0], WoE: -2.3026: People aged 64 to 80 are much less likely to experience the event (strongly negative association)."
      ],
      "metadata": {
        "id": "eedpXdIAgAdU"
      },
      "id": "eedpXdIAgAdU"
    },
    {
      "cell_type": "markdown",
      "source": [
        "# Task 4"
      ],
      "metadata": {
        "id": "u0CvN1vtgi1l"
      },
      "id": "u0CvN1vtgi1l"
    },
    {
      "cell_type": "markdown",
      "source": [
        "Missing values can hinder the building of a logistic regression model for several reasons:\n",
        "\n",
        "**Loss of Information:** Missing data may contain valuable information relevant to the prediction task. If not handled properly, you may lose important insights, leading to suboptimal model performance.\n",
        "\n",
        "**Bias and Inaccuracy:** Ignoring missing values can introduce bias and inaccuracies into your model. This can lead to incorrect parameter estimates and predictions.\n",
        "\n",
        "**Algorithm Limitations:** Many machine learning algorithms, including logistic regression, require complete data to function correctly. Missing values can cause issues during model training and evaluation."
      ],
      "metadata": {
        "id": "7HUnZKvlnXQt"
      },
      "id": "7HUnZKvlnXQt"
    },
    {
      "cell_type": "markdown",
      "source": [
        "The \"Age\" column has missing values. Since age an important predictor, I consider imputation methods. We can use mean or median imputation."
      ],
      "metadata": {
        "id": "gvFDyxDbpHeU"
      },
      "id": "gvFDyxDbpHeU"
    },
    {
      "cell_type": "code",
      "source": [
        "df = pd.DataFrame(data)\n",
        "\n",
        "# Calculate the mean of the 'Age' column\n",
        "mean_age = df['Age'].mean()\n",
        "\n",
        "# Fill missing values in the 'Age' column with the mean\n",
        "df['Age'].fillna(mean_age, inplace=True)\n",
        "\n",
        "print(df['Age'].describe)"
      ],
      "metadata": {
        "colab": {
          "base_uri": "https://localhost:8080/"
        },
        "id": "mC400S9bolWZ",
        "outputId": "16269163-d3f6-4189-faf4-d717b1594a13"
      },
      "id": "mC400S9bolWZ",
      "execution_count": 51,
      "outputs": [
        {
          "output_type": "stream",
          "name": "stdout",
          "text": [
            "<bound method NDFrame.describe of 0      22.000000\n",
            "1      38.000000\n",
            "2      26.000000\n",
            "3      35.000000\n",
            "4      35.000000\n",
            "         ...    \n",
            "886    27.000000\n",
            "887    19.000000\n",
            "888    29.699118\n",
            "889    26.000000\n",
            "890    32.000000\n",
            "Name: Age, Length: 891, dtype: float64>\n"
          ]
        }
      ]
    },
    {
      "cell_type": "markdown",
      "source": [
        "The \"Cabin\" column has a significant number of missing values (around 77%). Due to the high missingness and potential complexity of handling cabin data, I consider excluding this variable from the model."
      ],
      "metadata": {
        "id": "59rfsKNEphc1"
      },
      "id": "59rfsKNEphc1"
    },
    {
      "cell_type": "code",
      "source": [
        "data = data.drop(['Cabin'], axis = 1)"
      ],
      "metadata": {
        "id": "ea9sDgZTp_OH"
      },
      "id": "ea9sDgZTp_OH",
      "execution_count": 52,
      "outputs": []
    },
    {
      "cell_type": "markdown",
      "source": [
        "\"Embarked\" has two missing values. We can impute these missing values using the mode (most frequent value) since it's a categorical variable.\n"
      ],
      "metadata": {
        "id": "qq0Bbx2Xqq6l"
      },
      "id": "qq0Bbx2Xqq6l"
    },
    {
      "cell_type": "code",
      "source": [
        "df = pd.DataFrame(data)\n",
        "\n",
        "# Calculate the mode (most frequent value)\n",
        "mode_embarked = df['Embarked'].mode()[0]\n",
        "\n",
        "# Fill missing values in the 'Embarked' column with the mode\n",
        "df['Embarked'].fillna(mode_embarked, inplace=True)\n",
        "\n",
        "print(df['Embarked'].describe)\n"
      ],
      "metadata": {
        "colab": {
          "base_uri": "https://localhost:8080/"
        },
        "id": "-QGZ585aqXKF",
        "outputId": "ef4835b4-93d0-40c0-a244-d4a3bfe0fcb6"
      },
      "id": "-QGZ585aqXKF",
      "execution_count": 54,
      "outputs": [
        {
          "output_type": "stream",
          "name": "stdout",
          "text": [
            "<bound method NDFrame.describe of 0      S\n",
            "1      C\n",
            "2      S\n",
            "3      S\n",
            "4      S\n",
            "      ..\n",
            "886    S\n",
            "887    S\n",
            "888    S\n",
            "889    C\n",
            "890    Q\n",
            "Name: Embarked, Length: 891, dtype: object>\n"
          ]
        }
      ]
    },
    {
      "cell_type": "markdown",
      "source": [
        "# Task 5"
      ],
      "metadata": {
        "id": "kDM4Q38OpDUv"
      },
      "id": "kDM4Q38OpDUv"
    },
    {
      "cell_type": "markdown",
      "source": [
        "**Logit:**\n",
        "\n",
        "The \"logit\" is a function used in logistic regression to map predictor variables to a probability value between 0 and 1.\n",
        "It's represented as \"Logit(p)\" and calculates the log-odds of an event happening.\n",
        "\n",
        "**Log Odds:**\n",
        "\n",
        "Log odds, also known as log-odds ratio, measures the likelihood of an event happening, expressed in logarithmic form.\n",
        "It's calculated using the logit function and represents the logarithm of the odds of an event occurring."
      ],
      "metadata": {
        "id": "orub4nl_g7uJ"
      },
      "id": "orub4nl_g7uJ"
    },
    {
      "cell_type": "markdown",
      "source": [
        "# Task 6"
      ],
      "metadata": {
        "id": "JyuNhrRzh_fG"
      },
      "id": "JyuNhrRzh_fG"
    },
    {
      "cell_type": "markdown",
      "source": [
        "**ROC AUC (Receiver Operating Characteristic Area Under the Curve)** is a performance metric that quantifies the ability of a binary classification model to distinguish between the positive and negative classes."
      ],
      "metadata": {
        "id": "Q5o9wbtUrOFv"
      },
      "id": "Q5o9wbtUrOFv"
    },
    {
      "cell_type": "code",
      "source": [
        "X = df[['Pclass', 'Age', 'SibSp', 'Parch', 'Fare']]\n",
        "y = df['Survived']\n",
        "\n",
        "X_train, X_test, y_train, y_test = train_test_split(X, y, test_size=0.3, random_state=42)\n",
        "\n",
        "# Build a logistic regression model\n",
        "model = LogisticRegression()\n",
        "model.fit(X_train, y_train)\n",
        "\n",
        "# Predict probabilities for the positive class\n",
        "y_pred_prob = model.predict_proba(X_test)[:, 1]\n",
        "\n",
        "# Calculate ROC AUC\n",
        "roc_auc = roc_auc_score(y_test, y_pred_prob)\n",
        "\n",
        "# Generate ROC curve\n",
        "fpr, tpr, _ = roc_curve(y_test, y_pred_prob)\n",
        "roc_auc = auc(fpr, tpr)\n",
        "\n",
        "plt.figure()\n",
        "plt.plot(fpr, tpr, color='darkorange', lw=2, label='ROC curve (area = %0.2f)' % roc_auc)\n",
        "plt.plot([0, 1], [0, 1], color='navy', lw=2, linestyle='--')\n",
        "plt.xlim([0.0, 1.0])\n",
        "plt.ylim([0.0, 1.05])\n",
        "plt.xlabel('False Positive Rate')\n",
        "plt.ylabel('True Positive Rate')\n",
        "plt.title('Receiver Operating Characteristic')\n",
        "plt.legend(loc='lower right')\n",
        "plt.show()\n",
        "\n",
        "print(\"ROC AUC:\", roc_auc)\n"
      ],
      "metadata": {
        "colab": {
          "base_uri": "https://localhost:8080/",
          "height": 502
        },
        "id": "2JJodNtKrMvi",
        "outputId": "32e56228-2b26-4d7d-d17b-a40fddd8b9a9"
      },
      "id": "2JJodNtKrMvi",
      "execution_count": 61,
      "outputs": [
        {
          "output_type": "display_data",
          "data": {
            "text/plain": [
              "<Figure size 640x480 with 1 Axes>"
            ],
            "image/png": "[encoded data removed]"
          },
          "metadata": {}
        },
        {
          "output_type": "stream",
          "name": "stdout",
          "text": [
            "ROC AUC: 0.7690652435875365\n"
          ]
        }
      ]
    },
    {
      "cell_type": "markdown",
      "source": [
        "# Task 7"
      ],
      "metadata": {
        "id": "CRregpKVsS-c"
      },
      "id": "CRregpKVsS-c"
    },
    {
      "cell_type": "code",
      "source": [
        "\n",
        "X = df[['Pclass', 'Age', 'SibSp', 'Parch', 'Fare']]\n",
        "y = df['Survived']\n",
        "\n",
        "X_train, X_test, y_train, y_test = train_test_split(X, y, test_size=0.3, random_state=42)\n",
        "\n",
        "model = LogisticRegression()\n",
        "model.fit(X_train, y_train)\n",
        "\n",
        "# Define the probability thresholds\n",
        "thresholds = [0.01, 0.1, 0.2, 0.3, 0.4, 0.5]\n",
        "\n",
        "# Evaluate the model at different thresholds\n",
        "for threshold in thresholds:\n",
        "    y_pred_prob = model.predict_proba(X_test)[:, 1]\n",
        "\n",
        "    # Convert probabilities to binary predictions based on the threshold\n",
        "    y_pred = (y_pred_prob >= threshold).astype(int)\n",
        "\n",
        "    # Calculate confusion matrix\n",
        "    cm = confusion_matrix(y_test, y_pred)\n",
        "\n",
        "    # Calculate precision, recall, accuracy, and F1 score\n",
        "    precision = precision_score(y_test, y_pred)\n",
        "    recall = recall_score(y_test, y_pred)\n",
        "    accuracy = accuracy_score(y_test, y_pred)\n",
        "    f1 = f1_score(y_test, y_pred)\n",
        "\n",
        "    print(f\"Threshold: {threshold}\")\n",
        "    print(f\"Confusion Matrix:\\n{cm}\")\n",
        "    print(f\"Precision: {precision:.4f}\")\n",
        "    print(f\"Recall: {recall:.4f}\")\n",
        "    print(f\"Accuracy: {accuracy:.4f}\")\n",
        "    print(f\"F1 Score: {f1:.4f}\")\n",
        "    print(\"\\n\")\n"
      ],
      "metadata": {
        "colab": {
          "base_uri": "https://localhost:8080/"
        },
        "id": "KLAXoTyXsslr",
        "outputId": "0184b08b-64a9-4d0c-ee3f-ddab4fe1a05f"
      },
      "id": "KLAXoTyXsslr",
      "execution_count": 60,
      "outputs": [
        {
          "output_type": "stream",
          "name": "stdout",
          "text": [
            "Threshold: 0.01\n",
            "Confusion Matrix:\n",
            "[[  0 157]\n",
            " [  0 111]]\n",
            "Precision: 0.4142\n",
            "Recall: 1.0000\n",
            "Accuracy: 0.4142\n",
            "F1 Score: 0.5858\n",
            "\n",
            "\n",
            "Threshold: 0.1\n",
            "Confusion Matrix:\n",
            "[[  2 155]\n",
            " [  1 110]]\n",
            "Precision: 0.4151\n",
            "Recall: 0.9910\n",
            "Accuracy: 0.4179\n",
            "F1 Score: 0.5851\n",
            "\n",
            "\n",
            "Threshold: 0.2\n",
            "Confusion Matrix:\n",
            "[[ 16 141]\n",
            " [  2 109]]\n",
            "Precision: 0.4360\n",
            "Recall: 0.9820\n",
            "Accuracy: 0.4664\n",
            "F1 Score: 0.6039\n",
            "\n",
            "\n",
            "Threshold: 0.3\n",
            "Confusion Matrix:\n",
            "[[95 62]\n",
            " [25 86]]\n",
            "Precision: 0.5811\n",
            "Recall: 0.7748\n",
            "Accuracy: 0.6754\n",
            "F1 Score: 0.6641\n",
            "\n",
            "\n",
            "Threshold: 0.4\n",
            "Confusion Matrix:\n",
            "[[125  32]\n",
            " [ 43  68]]\n",
            "Precision: 0.6800\n",
            "Recall: 0.6126\n",
            "Accuracy: 0.7201\n",
            "F1 Score: 0.6445\n",
            "\n",
            "\n",
            "Threshold: 0.5\n",
            "Confusion Matrix:\n",
            "[[143  14]\n",
            " [ 59  52]]\n",
            "Precision: 0.7879\n",
            "Recall: 0.4685\n",
            "Accuracy: 0.7276\n",
            "F1 Score: 0.5876\n",
            "\n",
            "\n"
          ]
        }
      ]
    },
    {
      "cell_type": "markdown",
      "source": [
        "The confusion matrix changes with different thresholds because it defines how we classify predictions into true positives, true negatives, false positives, and false negatives based on the chosen threshold.\n"
      ],
      "metadata": {
        "id": "gCzoQoVztIRU"
      },
      "id": "gCzoQoVztIRU"
    },
    {
      "cell_type": "markdown",
      "source": [
        "\n",
        "While ROC AUC is informative for assessing model performance, examining precision, recall, accuracy, and F1 score at different thresholds allows you to tailor the model's behavior to the specific requirements of your application. It helps understand how the model performs in different scenarios and make informed decisions about its practical utility.`"
      ],
      "metadata": {
        "id": "CRusniXItj8l"
      },
      "id": "CRusniXItj8l"
    },
    {
      "cell_type": "code",
      "source": [],
      "metadata": {
        "id": "hQhle4V3tJJw"
      },
      "id": "hQhle4V3tJJw",
      "execution_count": null,
      "outputs": []
    }
  ],
  "metadata": {
    "kernelspec": {
      "display_name": "Python 3 (ipykernel)",
      "language": "python",
      "name": "python3"
    },
    "language_info": {
      "codemirror_mode": {
        "name": "ipython",
        "version": 3
      },
      "file_extension": ".py",
      "mimetype": "text/x-python",
      "name": "python",
      "nbconvert_exporter": "python",
      "pygments_lexer": "ipython3",
      "version": "3.10.9"
    },
    "colab": {
      "provenance": [],
      "include_colab_link": true
    }
  },
  "nbformat": 4,
  "nbformat_minor": 5
}