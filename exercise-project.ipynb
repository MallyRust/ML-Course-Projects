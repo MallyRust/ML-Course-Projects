{
 "cells": [
  {
   "cell_type": "markdown",
   "id": "db8dc5bb",
   "metadata": {
    "papermill": {
     "duration": 0.006614,
     "end_time": "2023-07-23T11:39:34.988629",
     "exception": false,
     "start_time": "2023-07-23T11:39:34.982015",
     "status": "completed"
    },
    "tags": []
   },
   "source": [
    "**This notebook is an exercise in the [Data Visualization](https://www.kaggle.com/learn/data-visualization) course.  You can reference the tutorial at [this link](https://www.kaggle.com/alexisbcook/final-project).**\n",
    "\n",
    "---\n"
   ]
  },
  {
   "cell_type": "markdown",
   "id": "7dc26978",
   "metadata": {
    "papermill": {
     "duration": 0.005756,
     "end_time": "2023-07-23T11:39:35.000704",
     "exception": false,
     "start_time": "2023-07-23T11:39:34.994948",
     "status": "completed"
    },
    "tags": []
   },
   "source": [
    "Now it's time for you to demonstrate your new skills with a project of your own!\n",
    "\n",
    "In this exercise, you will work with a dataset of your choosing.  Once you've selected a dataset, you'll design and create your own plot to tell interesting stories behind the data!\n",
    "\n",
    "## Setup\n",
    "\n",
    "Run the next cell to import and configure the Python libraries that you need to complete the exercise."
   ]
  },
  {
   "cell_type": "code",
   "execution_count": 1,
   "id": "729b17e3",
   "metadata": {
    "execution": {
     "iopub.execute_input": "2023-07-23T11:39:35.015305Z",
     "iopub.status.busy": "2023-07-23T11:39:35.014555Z",
     "iopub.status.idle": "2023-07-23T11:39:36.426612Z",
     "shell.execute_reply": "2023-07-23T11:39:36.425341Z"
    },
    "papermill": {
     "duration": 1.422465,
     "end_time": "2023-07-23T11:39:36.429292",
     "exception": false,
     "start_time": "2023-07-23T11:39:35.006827",
     "status": "completed"
    },
    "tags": []
   },
   "outputs": [
    {
     "name": "stderr",
     "output_type": "stream",
     "text": [
      "/opt/conda/lib/python3.10/site-packages/scipy/__init__.py:146: UserWarning: A NumPy version >=1.16.5 and <1.23.0 is required for this version of SciPy (detected version 1.23.5\n",
      "  warnings.warn(f\"A NumPy version >={np_minversion} and <{np_maxversion}\"\n"
     ]
    },
    {
     "name": "stdout",
     "output_type": "stream",
     "text": [
      "Setup Complete\n"
     ]
    }
   ],
   "source": [
    "import pandas as pd\n",
    "pd.plotting.register_matplotlib_converters()\n",
    "import matplotlib.pyplot as plt\n",
    "%matplotlib inline\n",
    "import seaborn as sns\n",
    "print(\"Setup Complete\")"
   ]
  },
  {
   "cell_type": "markdown",
   "id": "95eb7e7f",
   "metadata": {
    "papermill": {
     "duration": 0.006228,
     "end_time": "2023-07-23T11:39:36.442027",
     "exception": false,
     "start_time": "2023-07-23T11:39:36.435799",
     "status": "completed"
    },
    "tags": []
   },
   "source": [
    "The questions below will give you feedback on your work. Run the following cell to set up the feedback system."
   ]
  },
  {
   "cell_type": "code",
   "execution_count": 2,
   "id": "108f7dfc",
   "metadata": {
    "execution": {
     "iopub.execute_input": "2023-07-23T11:39:36.457066Z",
     "iopub.status.busy": "2023-07-23T11:39:36.455957Z",
     "iopub.status.idle": "2023-07-23T11:39:36.495794Z",
     "shell.execute_reply": "2023-07-23T11:39:36.494603Z"
    },
    "papermill": {
     "duration": 0.050101,
     "end_time": "2023-07-23T11:39:36.498480",
     "exception": false,
     "start_time": "2023-07-23T11:39:36.448379",
     "status": "completed"
    },
    "tags": []
   },
   "outputs": [
    {
     "name": "stdout",
     "output_type": "stream",
     "text": [
      "Setup Complete\n"
     ]
    }
   ],
   "source": [
    "# Set up code checking\n",
    "from learntools.core import binder\n",
    "binder.bind(globals())\n",
    "from learntools.data_viz_to_coder.ex7 import *\n",
    "print(\"Setup Complete\")"
   ]
  },
  {
   "cell_type": "markdown",
   "id": "decd9077",
   "metadata": {
    "papermill": {
     "duration": 0.006214,
     "end_time": "2023-07-23T11:39:36.511494",
     "exception": false,
     "start_time": "2023-07-23T11:39:36.505280",
     "status": "completed"
    },
    "tags": []
   },
   "source": [
    "## Step 1: Attach a dataset to the notebook\n",
    "\n",
    "Begin by selecting a CSV dataset from [Kaggle Datasets](https://www.kaggle.com/datasets).  If you're unsure how to do this, please revisit the instructions in the previous tutorial.\n",
    "\n",
    "Once you have selected a dataset, click on the **[+ Add data]** option in the top right corner.  This will generate a pop-up window that you can use to search for your chosen dataset.  \n",
    "\n",
    "![ex6_search_dataset](https://storage.googleapis.com/kaggle-media/learn/images/cIIWPUS.png)\n",
    "\n",
    "Once you have found the dataset, click on the **[Add]** button to attach it to the notebook.  You can check that it was successful by looking at the **Data** dropdown menu to the right of the notebook -- look for an **input** folder containing a subfolder that matches the name of the dataset.\n",
    "\n",
    "<center>\n",
    "<img src=\"https://storage.googleapis.com/kaggle-media/learn/images/nMYc1Nu.png\" width=30%><br/>\n",
    "</center>\n",
    "\n",
    "You can click on the carat to the left of the name of the dataset to double-check that it contains a CSV file.  For instance, the image below shows that the example dataset contains two CSV files: (1) **dc-wikia-data.csv**, and (2) **marvel-wikia-data.csv**.\n",
    "\n",
    "<center>\n",
    "<img src=\"https://storage.googleapis.com/kaggle-media/learn/images/B4sJkVA.png\" width=30%><br/>\n",
    "</center>\n",
    "\n",
    "Once you've uploaded a dataset with a CSV file, run the code cell below **without changes** to receive credit for your work!"
   ]
  },
  {
   "cell_type": "code",
   "execution_count": 3,
   "id": "0099e7f2",
   "metadata": {
    "execution": {
     "iopub.execute_input": "2023-07-23T11:39:36.526044Z",
     "iopub.status.busy": "2023-07-23T11:39:36.525621Z",
     "iopub.status.idle": "2023-07-23T11:39:36.545339Z",
     "shell.execute_reply": "2023-07-23T11:39:36.544156Z"
    },
    "papermill": {
     "duration": 0.029732,
     "end_time": "2023-07-23T11:39:36.547678",
     "exception": false,
     "start_time": "2023-07-23T11:39:36.517946",
     "status": "completed"
    },
    "tags": []
   },
   "outputs": [
    {
     "data": {
      "application/javascript": [
       "parent.postMessage({\"jupyterEvent\": \"custom.exercise_interaction\", \"data\": {\"outcomeType\": 1, \"valueTowardsCompletion\": 0.25, \"interactionType\": 1, \"questionType\": 2, \"questionId\": \"1_AttachData\", \"learnToolsVersion\": \"0.3.4\", \"failureMessage\": \"\", \"exceptionClass\": \"\", \"trace\": \"\"}}, \"*\")"
      ],
      "text/plain": [
       "<IPython.core.display.Javascript object>"
      ]
     },
     "metadata": {},
     "output_type": "display_data"
    },
    {
     "data": {
      "text/markdown": [
       "<span style=\"color:#33cc33\">Correct:</span> \n",
       "\n"
      ],
      "text/plain": [
       "Correct: \n"
      ]
     },
     "metadata": {},
     "output_type": "display_data"
    }
   ],
   "source": [
    "# Check for a dataset with a CSV file\n",
    "step_1.check()"
   ]
  },
  {
   "cell_type": "markdown",
   "id": "d9ef3c52",
   "metadata": {
    "papermill": {
     "duration": 0.006729,
     "end_time": "2023-07-23T11:39:36.561274",
     "exception": false,
     "start_time": "2023-07-23T11:39:36.554545",
     "status": "completed"
    },
    "tags": []
   },
   "source": [
    "## Step 2: Specify the filepath\n",
    "\n",
    "Now that the dataset is attached to the notebook, you can find its filepath.  To do this, begin by clicking on the CSV file you'd like to use.  This will open the CSV file in a tab below the notebook.  You can find the filepath towards the top of this new tab.  \n",
    "\n",
    "![ex6_filepath](https://storage.googleapis.com/kaggle-media/learn/images/fgXQV47.png)\n",
    "\n",
    "After you find the filepath corresponding to your dataset, fill it in as the value for `my_filepath` in the code cell below, and run the code cell to check that you've provided a valid filepath.  For instance, in the case of this example dataset, we would set\n",
    "```\n",
    "my_filepath = \"../input/fivethirtyeight-comic-characters-dataset/dc-wikia-data.csv\"\n",
    "```  \n",
    "Note that **you must enclose the filepath in quotation marks**; otherwise, the code will return an error.\n",
    "\n",
    "Once you've entered the filepath, you can close the tab below the notebook by clicking on the **[X]** at the top of the tab."
   ]
  },
  {
   "cell_type": "code",
   "execution_count": 4,
   "id": "a4569cbc",
   "metadata": {
    "execution": {
     "iopub.execute_input": "2023-07-23T11:39:36.576811Z",
     "iopub.status.busy": "2023-07-23T11:39:36.576368Z",
     "iopub.status.idle": "2023-07-23T11:39:36.585530Z",
     "shell.execute_reply": "2023-07-23T11:39:36.584681Z"
    },
    "papermill": {
     "duration": 0.019394,
     "end_time": "2023-07-23T11:39:36.587578",
     "exception": false,
     "start_time": "2023-07-23T11:39:36.568184",
     "status": "completed"
    },
    "tags": []
   },
   "outputs": [
    {
     "data": {
      "application/javascript": [
       "parent.postMessage({\"jupyterEvent\": \"custom.exercise_interaction\", \"data\": {\"outcomeType\": 1, \"valueTowardsCompletion\": 0.25, \"interactionType\": 1, \"questionType\": 2, \"questionId\": \"2_Filepath\", \"learnToolsVersion\": \"0.3.4\", \"failureMessage\": \"\", \"exceptionClass\": \"\", \"trace\": \"\"}}, \"*\")"
      ],
      "text/plain": [
       "<IPython.core.display.Javascript object>"
      ]
     },
     "metadata": {},
     "output_type": "display_data"
    },
    {
     "data": {
      "text/markdown": [
       "<span style=\"color:#33cc33\">Correct:</span> \n",
       "\n"
      ],
      "text/plain": [
       "Correct: \n"
      ]
     },
     "metadata": {},
     "output_type": "display_data"
    }
   ],
   "source": [
    "# Fill in the line below: Specify the path of the CSV file to read\n",
    "my_filepath = \"../input/increasing-breast-cancer-awareness/breast_cancer_survival.csv\"\n",
    "\n",
    "# Check for a valid filepath to a CSV file in a dataset\n",
    "step_2.check()"
   ]
  },
  {
   "cell_type": "markdown",
   "id": "763a60b5",
   "metadata": {
    "papermill": {
     "duration": 0.00688,
     "end_time": "2023-07-23T11:39:36.602978",
     "exception": false,
     "start_time": "2023-07-23T11:39:36.596098",
     "status": "completed"
    },
    "tags": []
   },
   "source": [
    "## Step 3: Load the data\n",
    "\n",
    "Use the next code cell to load your data file into `my_data`.  Use the filepath that you specified in the previous step."
   ]
  },
  {
   "cell_type": "code",
   "execution_count": 5,
   "id": "73917e00",
   "metadata": {
    "execution": {
     "iopub.execute_input": "2023-07-23T11:39:36.619606Z",
     "iopub.status.busy": "2023-07-23T11:39:36.618875Z",
     "iopub.status.idle": "2023-07-23T11:39:36.649719Z",
     "shell.execute_reply": "2023-07-23T11:39:36.648859Z"
    },
    "papermill": {
     "duration": 0.042405,
     "end_time": "2023-07-23T11:39:36.652580",
     "exception": false,
     "start_time": "2023-07-23T11:39:36.610175",
     "status": "completed"
    },
    "tags": []
   },
   "outputs": [
    {
     "data": {
      "application/javascript": [
       "parent.postMessage({\"jupyterEvent\": \"custom.exercise_interaction\", \"data\": {\"outcomeType\": 1, \"valueTowardsCompletion\": 0.25, \"interactionType\": 1, \"questionType\": 2, \"questionId\": \"3_LoadData\", \"learnToolsVersion\": \"0.3.4\", \"failureMessage\": \"\", \"exceptionClass\": \"\", \"trace\": \"\"}}, \"*\")"
      ],
      "text/plain": [
       "<IPython.core.display.Javascript object>"
      ]
     },
     "metadata": {},
     "output_type": "display_data"
    },
    {
     "data": {
      "text/markdown": [
       "<span style=\"color:#33cc33\">Correct:</span> \n",
       "\n"
      ],
      "text/plain": [
       "Correct: \n"
      ]
     },
     "metadata": {},
     "output_type": "display_data"
    }
   ],
   "source": [
    "# Fill in the line below: Read the file into a variable my_data\n",
    "my_data = pd.read_csv(my_filepath)\n",
    "\n",
    "\n",
    "# Check that a dataset has been uploaded into my_data\n",
    "step_3.check()"
   ]
  },
  {
   "cell_type": "markdown",
   "id": "e48e53c3",
   "metadata": {
    "papermill": {
     "duration": 0.007198,
     "end_time": "2023-07-23T11:39:36.667209",
     "exception": false,
     "start_time": "2023-07-23T11:39:36.660011",
     "status": "completed"
    },
    "tags": []
   },
   "source": [
    "**_After the code cell above is marked correct_**, run the code cell below without changes to view the first five rows of the data."
   ]
  },
  {
   "cell_type": "code",
   "execution_count": 6,
   "id": "de8db439",
   "metadata": {
    "execution": {
     "iopub.execute_input": "2023-07-23T11:39:36.684123Z",
     "iopub.status.busy": "2023-07-23T11:39:36.683710Z",
     "iopub.status.idle": "2023-07-23T11:39:36.712264Z",
     "shell.execute_reply": "2023-07-23T11:39:36.711397Z"
    },
    "papermill": {
     "duration": 0.039704,
     "end_time": "2023-07-23T11:39:36.714532",
     "exception": false,
     "start_time": "2023-07-23T11:39:36.674828",
     "status": "completed"
    },
    "tags": []
   },
   "outputs": [
    {
     "data": {
      "text/html": [
       "<div>\n",
       "<style scoped>\n",
       "    .dataframe tbody tr th:only-of-type {\n",
       "        vertical-align: middle;\n",
       "    }\n",
       "\n",
       "    .dataframe tbody tr th {\n",
       "        vertical-align: top;\n",
       "    }\n",
       "\n",
       "    .dataframe thead th {\n",
       "        text-align: right;\n",
       "    }\n",
       "</style>\n",
       "<table border=\"1\" class=\"dataframe\">\n",
       "  <thead>\n",
       "    <tr style=\"text-align: right;\">\n",
       "      <th></th>\n",
       "      <th>Age</th>\n",
       "      <th>Gender</th>\n",
       "      <th>Protein1</th>\n",
       "      <th>Protein2</th>\n",
       "      <th>Protein3</th>\n",
       "      <th>Protein4</th>\n",
       "      <th>Tumour_Stage</th>\n",
       "      <th>Histology</th>\n",
       "      <th>ER status</th>\n",
       "      <th>PR status</th>\n",
       "      <th>HER2 status</th>\n",
       "      <th>Surgery_type</th>\n",
       "      <th>Date_of_Surgery</th>\n",
       "      <th>Date_of_Last_Visit</th>\n",
       "      <th>Patient_Status</th>\n",
       "    </tr>\n",
       "  </thead>\n",
       "  <tbody>\n",
       "    <tr>\n",
       "      <th>329</th>\n",
       "      <td>59</td>\n",
       "      <td>FEMALE</td>\n",
       "      <td>0.024598</td>\n",
       "      <td>1.40050</td>\n",
       "      <td>0.024751</td>\n",
       "      <td>0.28032</td>\n",
       "      <td>II</td>\n",
       "      <td>Infiltrating Ductal Carcinoma</td>\n",
       "      <td>Positive</td>\n",
       "      <td>Positive</td>\n",
       "      <td>Positive</td>\n",
       "      <td>Lumpectomy</td>\n",
       "      <td>15-Jan-19</td>\n",
       "      <td>27-Mar-20</td>\n",
       "      <td>Alive</td>\n",
       "    </tr>\n",
       "    <tr>\n",
       "      <th>330</th>\n",
       "      <td>41</td>\n",
       "      <td>FEMALE</td>\n",
       "      <td>0.100120</td>\n",
       "      <td>-0.46547</td>\n",
       "      <td>0.472370</td>\n",
       "      <td>-0.52387</td>\n",
       "      <td>I</td>\n",
       "      <td>Infiltrating Ductal Carcinoma</td>\n",
       "      <td>Positive</td>\n",
       "      <td>Positive</td>\n",
       "      <td>Positive</td>\n",
       "      <td>Modified Radical Mastectomy</td>\n",
       "      <td>25-Jul-18</td>\n",
       "      <td>23-Apr-19</td>\n",
       "      <td>Alive</td>\n",
       "    </tr>\n",
       "    <tr>\n",
       "      <th>331</th>\n",
       "      <td>54</td>\n",
       "      <td>FEMALE</td>\n",
       "      <td>0.753820</td>\n",
       "      <td>1.64250</td>\n",
       "      <td>-0.332850</td>\n",
       "      <td>0.85786</td>\n",
       "      <td>II</td>\n",
       "      <td>Infiltrating Ductal Carcinoma</td>\n",
       "      <td>Positive</td>\n",
       "      <td>Positive</td>\n",
       "      <td>Negative</td>\n",
       "      <td>Simple Mastectomy</td>\n",
       "      <td>26-Mar-19</td>\n",
       "      <td>11-Oct-19</td>\n",
       "      <td>Dead</td>\n",
       "    </tr>\n",
       "    <tr>\n",
       "      <th>332</th>\n",
       "      <td>74</td>\n",
       "      <td>FEMALE</td>\n",
       "      <td>0.972510</td>\n",
       "      <td>1.42680</td>\n",
       "      <td>-0.366570</td>\n",
       "      <td>-0.10782</td>\n",
       "      <td>II</td>\n",
       "      <td>Infiltrating Lobular Carcinoma</td>\n",
       "      <td>Positive</td>\n",
       "      <td>Positive</td>\n",
       "      <td>Negative</td>\n",
       "      <td>Lumpectomy</td>\n",
       "      <td>26-Nov-18</td>\n",
       "      <td>05-Dec-18</td>\n",
       "      <td>Alive</td>\n",
       "    </tr>\n",
       "    <tr>\n",
       "      <th>333</th>\n",
       "      <td>66</td>\n",
       "      <td>FEMALE</td>\n",
       "      <td>0.286380</td>\n",
       "      <td>1.39980</td>\n",
       "      <td>0.318830</td>\n",
       "      <td>0.83605</td>\n",
       "      <td>II</td>\n",
       "      <td>Infiltrating Ductal Carcinoma</td>\n",
       "      <td>Positive</td>\n",
       "      <td>Positive</td>\n",
       "      <td>Negative</td>\n",
       "      <td>Modified Radical Mastectomy</td>\n",
       "      <td>04-Feb-19</td>\n",
       "      <td>10-Aug-19</td>\n",
       "      <td>Dead</td>\n",
       "    </tr>\n",
       "  </tbody>\n",
       "</table>\n",
       "</div>"
      ],
      "text/plain": [
       "     Age  Gender  Protein1  Protein2  Protein3  Protein4 Tumour_Stage  \\\n",
       "329   59  FEMALE  0.024598   1.40050  0.024751   0.28032           II   \n",
       "330   41  FEMALE  0.100120  -0.46547  0.472370  -0.52387            I   \n",
       "331   54  FEMALE  0.753820   1.64250 -0.332850   0.85786           II   \n",
       "332   74  FEMALE  0.972510   1.42680 -0.366570  -0.10782           II   \n",
       "333   66  FEMALE  0.286380   1.39980  0.318830   0.83605           II   \n",
       "\n",
       "                          Histology ER status PR status HER2 status  \\\n",
       "329   Infiltrating Ductal Carcinoma  Positive  Positive    Positive   \n",
       "330   Infiltrating Ductal Carcinoma  Positive  Positive    Positive   \n",
       "331   Infiltrating Ductal Carcinoma  Positive  Positive    Negative   \n",
       "332  Infiltrating Lobular Carcinoma  Positive  Positive    Negative   \n",
       "333   Infiltrating Ductal Carcinoma  Positive  Positive    Negative   \n",
       "\n",
       "                    Surgery_type Date_of_Surgery Date_of_Last_Visit  \\\n",
       "329                   Lumpectomy       15-Jan-19          27-Mar-20   \n",
       "330  Modified Radical Mastectomy       25-Jul-18          23-Apr-19   \n",
       "331            Simple Mastectomy       26-Mar-19          11-Oct-19   \n",
       "332                   Lumpectomy       26-Nov-18          05-Dec-18   \n",
       "333  Modified Radical Mastectomy       04-Feb-19          10-Aug-19   \n",
       "\n",
       "    Patient_Status  \n",
       "329          Alive  \n",
       "330          Alive  \n",
       "331           Dead  \n",
       "332          Alive  \n",
       "333           Dead  "
      ]
     },
     "execution_count": 6,
     "metadata": {},
     "output_type": "execute_result"
    }
   ],
   "source": [
    "# Print the first five rows of the data\n",
    "my_data.tail()"
   ]
  },
  {
   "cell_type": "markdown",
   "id": "019f4f48",
   "metadata": {
    "papermill": {
     "duration": 0.007555,
     "end_time": "2023-07-23T11:39:36.729997",
     "exception": false,
     "start_time": "2023-07-23T11:39:36.722442",
     "status": "completed"
    },
    "tags": []
   },
   "source": [
    "## Step 4: Visualize the data\n",
    "\n",
    "Use the next code cell to create a figure that tells a story behind your dataset.  You can use any chart type (_line chart, bar chart, heatmap, etc_) of your choosing!"
   ]
  },
  {
   "cell_type": "code",
   "execution_count": 7,
   "id": "9a3582ed",
   "metadata": {
    "execution": {
     "iopub.execute_input": "2023-07-23T11:39:36.747959Z",
     "iopub.status.busy": "2023-07-23T11:39:36.746948Z",
     "iopub.status.idle": "2023-07-23T11:39:37.047553Z",
     "shell.execute_reply": "2023-07-23T11:39:37.046355Z"
    },
    "papermill": {
     "duration": 0.312462,
     "end_time": "2023-07-23T11:39:37.050261",
     "exception": false,
     "start_time": "2023-07-23T11:39:36.737799",
     "status": "completed"
    },
    "tags": []
   },
   "outputs": [
    {
     "data": {
      "image/png": "[encoded data removed]",
      "text/plain": [
       "<Figure size 640x480 with 1 Axes>"
      ]
     },
     "metadata": {},
     "output_type": "display_data"
    }
   ],
   "source": [
    "df = pd.DataFrame(my_data)\n",
    "\n",
    "# Count the number of patients for each Tumour_Stage\n",
    "tumour_stage_counts = df['Tumour_Stage'].value_counts()\n",
    "\n",
    "#bar plot\n",
    "\n",
    "plt.bar(tumour_stage_counts.index, tumour_stage_counts.values, color= 'plum')\n",
    "plt.xlabel('Tumour_Stage')\n",
    "plt.ylabel('Number of Patients')\n",
    "plt.title('Count of Patients for Each Tumour Stage')\n",
    "plt.show()\n",
    "\n"
   ]
  },
  {
   "cell_type": "code",
   "execution_count": 8,
   "id": "8f53ba7d",
   "metadata": {
    "execution": {
     "iopub.execute_input": "2023-07-23T11:39:37.068393Z",
     "iopub.status.busy": "2023-07-23T11:39:37.068007Z",
     "iopub.status.idle": "2023-07-23T11:39:37.384985Z",
     "shell.execute_reply": "2023-07-23T11:39:37.383799Z"
    },
    "papermill": {
     "duration": 0.329127,
     "end_time": "2023-07-23T11:39:37.387611",
     "exception": false,
     "start_time": "2023-07-23T11:39:37.058484",
     "status": "completed"
    },
    "tags": []
   },
   "outputs": [
    {
     "data": {
      "image/png": "[encoded data removed]",
      "text/plain": [
       "<Figure size 640x480 with 1 Axes>"
      ]
     },
     "metadata": {},
     "output_type": "display_data"
    }
   ],
   "source": [
    "plt.scatter(df['Protein1'], df['Protein2'])\n",
    "plt.xlabel('Protein1')\n",
    "plt.ylabel('Protein2')\n",
    "\n",
    "plt.title('Scatter Plot: Protein1 vs. Protein2')\n",
    "plt.show()"
   ]
  },
  {
   "cell_type": "code",
   "execution_count": 9,
   "id": "eb917ff1",
   "metadata": {
    "execution": {
     "iopub.execute_input": "2023-07-23T11:39:37.407506Z",
     "iopub.status.busy": "2023-07-23T11:39:37.406810Z",
     "iopub.status.idle": "2023-07-23T11:39:37.552263Z",
     "shell.execute_reply": "2023-07-23T11:39:37.551073Z"
    },
    "papermill": {
     "duration": 0.159596,
     "end_time": "2023-07-23T11:39:37.555973",
     "exception": false,
     "start_time": "2023-07-23T11:39:37.396377",
     "status": "completed"
    },
    "tags": []
   },
   "outputs": [
    {
     "data": {
      "image/png": "[encoded data removed]",
      "text/plain": [
       "<Figure size 640x480 with 1 Axes>"
      ]
     },
     "metadata": {},
     "output_type": "display_data"
    }
   ],
   "source": [
    "df = pd.DataFrame(my_data)\n",
    "\n",
    "alive_count = 0\n",
    "death_count = 0\n",
    "\n",
    "# Count occurrences of 'Alive' and 'Dead'\n",
    "for status in df['Patient_Status']:\n",
    "    if status == 'Alive':\n",
    "        alive_count += 1\n",
    "    else:\n",
    "        death_count += 1\n",
    "\n",
    "total_count = alive_count + death_count\n",
    "alive_percentage = (alive_count / total_count) * 100\n",
    "death_percentage = (death_count / total_count) * 100\n",
    "\n",
    "# Create a pie chart\n",
    "categories = ['Alive', 'Death']\n",
    "percentages = [alive_percentage, death_percentage]\n",
    "\n",
    "plt.pie(percentages, labels=categories, autopct='%1.1f%%', startangle=90, colors=['lightgreen', 'pink'])\n",
    "plt.title('Percentage of Aliveness and Death')\n",
    "plt.show()\n"
   ]
  },
  {
   "cell_type": "markdown",
   "id": "2a6863a3",
   "metadata": {
    "papermill": {
     "duration": 0.018846,
     "end_time": "2023-07-23T11:39:37.594437",
     "exception": false,
     "start_time": "2023-07-23T11:39:37.575591",
     "status": "completed"
    },
    "tags": []
   },
   "source": [
    "## Keep going\n",
    "\n",
    "Learn how to use your skills after completing the micro-course to create data visualizations in a **[final tutorial](https://www.kaggle.com/alexisbcook/creating-your-own-notebooks)**."
   ]
  },
  {
   "cell_type": "code",
   "execution_count": null,
   "id": "f3d97643",
   "metadata": {
    "papermill": {
     "duration": 0.009746,
     "end_time": "2023-07-23T11:39:37.623681",
     "exception": false,
     "start_time": "2023-07-23T11:39:37.613935",
     "status": "completed"
    },
    "tags": []
   },
   "outputs": [],
   "source": []
  },
  {
   "cell_type": "markdown",
   "id": "2a29c41a",
   "metadata": {
    "papermill": {
     "duration": 0.009229,
     "end_time": "2023-07-23T11:39:37.642270",
     "exception": false,
     "start_time": "2023-07-23T11:39:37.633041",
     "status": "completed"
    },
    "tags": []
   },
   "source": [
    "---\n",
    "\n",
    "\n",
    "\n",
    "\n",
    "*Have questions or comments? Visit the [course discussion forum](https://www.kaggle.com/learn/data-visualization/discussion) to chat with other learners.*"
   ]
  }
 ],
 "metadata": {
  "kernelspec": {
   "display_name": "Python 3",
   "language": "python",
   "name": "python3"
  },
  "language_info": {
   "codemirror_mode": {
    "name": "ipython",
    "version": 3
   },
   "file_extension": ".py",
   "mimetype": "text/x-python",
   "name": "python",
   "nbconvert_exporter": "python",
   "pygments_lexer": "ipython3",
   "version": "3.10.12"
  },
  "papermill": {
   "default_parameters": {},
   "duration": 15.163841,
   "end_time": "2023-07-23T11:39:38.574980",
   "environment_variables": {},
   "exception": null,
   "input_path": "__notebook__.ipynb",
   "output_path": "__notebook__.ipynb",
   "parameters": {},
   "start_time": "2023-07-23T11:39:23.411139",
   "version": "2.4.0"
  }
 },
 "nbformat": 4,
 "nbformat_minor": 5
}
